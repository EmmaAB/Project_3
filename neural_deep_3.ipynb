{
 "cells": [
  {
   "cell_type": "code",
   "execution_count": 58,
   "metadata": {},
   "outputs": [],
   "source": [
    "%matplotlib inline\n",
    "import matplotlib.pyplot as plt\n",
    "import pandas as pd\n",
    "import os"
   ]
  },
  {
   "cell_type": "code",
   "execution_count": 59,
   "metadata": {},
   "outputs": [
    {
     "data": {
      "text/html": [
       "<div>\n",
       "<style scoped>\n",
       "    .dataframe tbody tr th:only-of-type {\n",
       "        vertical-align: middle;\n",
       "    }\n",
       "\n",
       "    .dataframe tbody tr th {\n",
       "        vertical-align: top;\n",
       "    }\n",
       "\n",
       "    .dataframe thead th {\n",
       "        text-align: right;\n",
       "    }\n",
       "</style>\n",
       "<table border=\"1\" class=\"dataframe\">\n",
       "  <thead>\n",
       "    <tr style=\"text-align: right;\">\n",
       "      <th></th>\n",
       "      <th>show_number</th>\n",
       "      <th>round</th>\n",
       "      <th>air_date</th>\n",
       "      <th>category</th>\n",
       "      <th>value</th>\n",
       "      <th>year</th>\n",
       "      <th>month</th>\n",
       "      <th>question</th>\n",
       "      <th>answer</th>\n",
       "    </tr>\n",
       "  </thead>\n",
       "  <tbody>\n",
       "    <tr>\n",
       "      <th>0</th>\n",
       "      <td>5147</td>\n",
       "      <td>Double Jeopardy!</td>\n",
       "      <td>1/16/2007</td>\n",
       "      <td>1957</td>\n",
       "      <td>1600</td>\n",
       "      <td>2007</td>\n",
       "      <td>1</td>\n",
       "      <td>Jack Kerouac published \"On The Road\", &amp; Nevil ...</td>\n",
       "      <td>Beach</td>\n",
       "    </tr>\n",
       "    <tr>\n",
       "      <th>1</th>\n",
       "      <td>5147</td>\n",
       "      <td>Double Jeopardy!</td>\n",
       "      <td>1/16/2007</td>\n",
       "      <td>U.S. STATE NAMES</td>\n",
       "      <td>1600</td>\n",
       "      <td>2007</td>\n",
       "      <td>1</td>\n",
       "      <td>This state's name is a homophone for a word th...</td>\n",
       "      <td>Maine</td>\n",
       "    </tr>\n",
       "    <tr>\n",
       "      <th>2</th>\n",
       "      <td>5147</td>\n",
       "      <td>Double Jeopardy!</td>\n",
       "      <td>1/16/2007</td>\n",
       "      <td>BODIES OF WATER</td>\n",
       "      <td>2000</td>\n",
       "      <td>2007</td>\n",
       "      <td>1</td>\n",
       "      <td>It sounds servile, but this 11,000-square-mile...</td>\n",
       "      <td>Great Slave Lake</td>\n",
       "    </tr>\n",
       "    <tr>\n",
       "      <th>3</th>\n",
       "      <td>5147</td>\n",
       "      <td>Double Jeopardy!</td>\n",
       "      <td>1/16/2007</td>\n",
       "      <td>ENTERTAINING WOMEN</td>\n",
       "      <td>2000</td>\n",
       "      <td>2007</td>\n",
       "      <td>1</td>\n",
       "      <td>Artie Shaw was married 8 times; his wives incl...</td>\n",
       "      <td>Ava Gardner</td>\n",
       "    </tr>\n",
       "    <tr>\n",
       "      <th>4</th>\n",
       "      <td>5147</td>\n",
       "      <td>Double Jeopardy!</td>\n",
       "      <td>1/16/2007</td>\n",
       "      <td>SPEED HAMLET</td>\n",
       "      <td>1000</td>\n",
       "      <td>2007</td>\n",
       "      <td>1</td>\n",
       "      <td>He's the Fresh Prince of Norway</td>\n",
       "      <td>Fortinbras</td>\n",
       "    </tr>\n",
       "  </tbody>\n",
       "</table>\n",
       "</div>"
      ],
      "text/plain": [
       "   show_number             round   air_date            category  value  year  \\\n",
       "0         5147  Double Jeopardy!  1/16/2007                1957   1600  2007   \n",
       "1         5147  Double Jeopardy!  1/16/2007    U.S. STATE NAMES   1600  2007   \n",
       "2         5147  Double Jeopardy!  1/16/2007     BODIES OF WATER   2000  2007   \n",
       "3         5147  Double Jeopardy!  1/16/2007  ENTERTAINING WOMEN   2000  2007   \n",
       "4         5147  Double Jeopardy!  1/16/2007        SPEED HAMLET   1000  2007   \n",
       "\n",
       "   month                                           question            answer  \n",
       "0      1  Jack Kerouac published \"On The Road\", & Nevil ...             Beach  \n",
       "1      1  This state's name is a homophone for a word th...             Maine  \n",
       "2      1  It sounds servile, but this 11,000-square-mile...  Great Slave Lake  \n",
       "3      1  Artie Shaw was married 8 times; his wives incl...       Ava Gardner  \n",
       "4      1                    He's the Fresh Prince of Norway        Fortinbras  "
      ]
     },
     "execution_count": 59,
     "metadata": {},
     "output_type": "execute_result"
    }
   ],
   "source": [
    "jeopardy_df = pd.read_csv(os.path.join('jeopardy_new(2).csv'))\n",
    "jeopardy_df.head()"
   ]
  },
  {
   "cell_type": "code",
   "execution_count": 60,
   "metadata": {},
   "outputs": [
    {
     "data": {
      "text/plain": [
       "Jeopardy!           107384\n",
       "Double Jeopardy!    105912\n",
       "Name: round, dtype: int64"
      ]
     },
     "execution_count": 60,
     "metadata": {},
     "output_type": "execute_result"
    }
   ],
   "source": [
    "jeopardy_df.columns\n",
    "jeopardy_df[\"round\"].value_counts()"
   ]
  },
  {
   "cell_type": "code",
   "execution_count": 61,
   "metadata": {},
   "outputs": [
    {
     "name": "stdout",
     "output_type": "stream",
     "text": [
      "(213296, 3) (213296, 1)\n"
     ]
    }
   ],
   "source": [
    "data = jeopardy_df.values\n",
    "data\n",
    "X = data[:, 4:7]\n",
    "y = data[:, 1].reshape(-1,1)\n",
    "\n",
    "print(X.shape, y.shape)"
   ]
  },
  {
   "cell_type": "markdown",
   "metadata": {},
   "source": [
    "# Label Encoding/One-Hot Encoding"
   ]
  },
  {
   "cell_type": "code",
   "execution_count": 62,
   "metadata": {},
   "outputs": [],
   "source": [
    "# Use train_test_split to create training and testing data\n",
    "\n",
    "from sklearn.model_selection import train_test_split\n",
    "from sklearn.preprocessing import LabelEncoder, MinMaxScaler\n",
    "from tensorflow.keras.utils import to_categorical\n",
    "\n",
    "X_train, X_test, y_train, y_test = train_test_split(X, y, random_state=42)"
   ]
  },
  {
   "cell_type": "code",
   "execution_count": 63,
   "metadata": {},
   "outputs": [],
   "source": [
    "# Create a StandardScater model and fit it to the training data\n",
    "\n",
    "X_scaler = MinMaxScaler().fit(X_train)\n",
    "X_train_scaled = X_scaler.transform(X_train)\n",
    "X_test_scaled = X_scaler.transform(X_test)"
   ]
  },
  {
   "cell_type": "code",
   "execution_count": 64,
   "metadata": {},
   "outputs": [
    {
     "name": "stderr",
     "output_type": "stream",
     "text": [
      "C:\\Users\\mokae\\anaconda3\\envs\\PythonAdv\\lib\\site-packages\\sklearn\\utils\\validation.py:73: DataConversionWarning: A column-vector y was passed when a 1d array was expected. Please change the shape of y to (n_samples, ), for example using ravel().\n",
      "  return f(**kwargs)\n"
     ]
    },
    {
     "data": {
      "text/plain": [
       "array([0, 1, 1, ..., 1, 0, 0])"
      ]
     },
     "execution_count": 64,
     "metadata": {},
     "output_type": "execute_result"
    }
   ],
   "source": [
    "# Step 1: Label-encode data set\n",
    "label_encoder = LabelEncoder()\n",
    "label_encoder.fit(y_train)\n",
    "encoded_y_train = label_encoder.transform(y_train)\n",
    "encoded_y_test = label_encoder.transform(y_test)\n",
    "encoded_y_train"
   ]
  },
  {
   "cell_type": "code",
   "execution_count": 65,
   "metadata": {},
   "outputs": [],
   "source": [
    "# Convert encoded labels to one-hot-encoding\n",
    "\n",
    "y_train_categorical = to_categorical(encoded_y_train)\n",
    "y_test_categorical = to_categorical(encoded_y_test)"
   ]
  },
  {
   "cell_type": "markdown",
   "metadata": {},
   "source": [
    "# Neural Network Model"
   ]
  },
  {
   "cell_type": "code",
   "execution_count": 66,
   "metadata": {},
   "outputs": [],
   "source": [
    "from tensorflow.keras.models import Sequential\n",
    "from tensorflow.keras.layers import Dense"
   ]
  },
  {
   "cell_type": "code",
   "execution_count": 67,
   "metadata": {},
   "outputs": [],
   "source": [
    "# Create Neural Network model and add layers\n",
    "\n",
    "model = Sequential()\n",
    "model.add(Dense(units=9, activation='relu', input_dim=3))\n",
    "model.add(Dense(2, activation='softmax'))"
   ]
  },
  {
   "cell_type": "code",
   "execution_count": 68,
   "metadata": {},
   "outputs": [
    {
     "name": "stdout",
     "output_type": "stream",
     "text": [
      "Model: \"sequential_5\"\n",
      "_________________________________________________________________\n",
      "Layer (type)                 Output Shape              Param #   \n",
      "=================================================================\n",
      "dense_11 (Dense)             (None, 9)                 36        \n",
      "_________________________________________________________________\n",
      "dense_12 (Dense)             (None, 2)                 20        \n",
      "=================================================================\n",
      "Total params: 56\n",
      "Trainable params: 56\n",
      "Non-trainable params: 0\n",
      "_________________________________________________________________\n"
     ]
    }
   ],
   "source": [
    "model.summary()"
   ]
  },
  {
   "cell_type": "code",
   "execution_count": 69,
   "metadata": {},
   "outputs": [
    {
     "name": "stdout",
     "output_type": "stream",
     "text": [
      "159972\n",
      "159972\n"
     ]
    }
   ],
   "source": [
    "# Compile and fit the model\n",
    "model.compile(optimizer='adam',\n",
    "              loss='categorical_crossentropy',\n",
    "              metrics=['accuracy'])\n",
    "\n",
    "print(len(X_train_scaled))\n",
    "print(len(y_train_categorical))"
   ]
  },
  {
   "cell_type": "code",
   "execution_count": 70,
   "metadata": {},
   "outputs": [
    {
     "name": "stdout",
     "output_type": "stream",
     "text": [
      "Train on 159972 samples\n",
      "Epoch 1/30\n",
      "159972/159972 - 5s - loss: 0.5938 - accuracy: 0.6972\n",
      "Epoch 2/30\n",
      "159972/159972 - 5s - loss: 0.5512 - accuracy: 0.7109\n",
      "Epoch 3/30\n",
      "159972/159972 - 5s - loss: 0.5510 - accuracy: 0.7112\n",
      "Epoch 4/30\n",
      "159972/159972 - 5s - loss: 0.5510 - accuracy: 0.7106\n",
      "Epoch 5/30\n",
      "159972/159972 - 5s - loss: 0.5510 - accuracy: 0.7110\n",
      "Epoch 6/30\n",
      "159972/159972 - 5s - loss: 0.5509 - accuracy: 0.7114\n",
      "Epoch 7/30\n",
      "159972/159972 - 5s - loss: 0.5510 - accuracy: 0.7109\n",
      "Epoch 8/30\n",
      "159972/159972 - 5s - loss: 0.5510 - accuracy: 0.7112\n",
      "Epoch 9/30\n",
      "159972/159972 - 5s - loss: 0.5510 - accuracy: 0.7107\n",
      "Epoch 10/30\n",
      "159972/159972 - 5s - loss: 0.5511 - accuracy: 0.7105\n",
      "Epoch 11/30\n",
      "159972/159972 - 5s - loss: 0.5510 - accuracy: 0.7107\n",
      "Epoch 12/30\n",
      "159972/159972 - 5s - loss: 0.5510 - accuracy: 0.7110\n",
      "Epoch 13/30\n",
      "159972/159972 - 5s - loss: 0.5510 - accuracy: 0.7112\n",
      "Epoch 14/30\n",
      "159972/159972 - 5s - loss: 0.5510 - accuracy: 0.7113\n",
      "Epoch 15/30\n",
      "159972/159972 - 5s - loss: 0.5508 - accuracy: 0.7107\n",
      "Epoch 16/30\n",
      "159972/159972 - 5s - loss: 0.5509 - accuracy: 0.7110\n",
      "Epoch 17/30\n",
      "159972/159972 - 5s - loss: 0.5508 - accuracy: 0.7113\n",
      "Epoch 18/30\n",
      "159972/159972 - 5s - loss: 0.5509 - accuracy: 0.7110\n",
      "Epoch 19/30\n",
      "159972/159972 - 5s - loss: 0.5508 - accuracy: 0.7109\n",
      "Epoch 20/30\n",
      "159972/159972 - 5s - loss: 0.5507 - accuracy: 0.7115\n",
      "Epoch 21/30\n",
      "159972/159972 - 6s - loss: 0.5507 - accuracy: 0.7109\n",
      "Epoch 22/30\n",
      "159972/159972 - 5s - loss: 0.5505 - accuracy: 0.7109\n",
      "Epoch 23/30\n",
      "159972/159972 - 5s - loss: 0.5504 - accuracy: 0.7108\n",
      "Epoch 24/30\n",
      "159972/159972 - 5s - loss: 0.5502 - accuracy: 0.7115\n",
      "Epoch 25/30\n",
      "159972/159972 - 5s - loss: 0.5499 - accuracy: 0.7111\n",
      "Epoch 26/30\n",
      "159972/159972 - 5s - loss: 0.5497 - accuracy: 0.7114\n",
      "Epoch 27/30\n",
      "159972/159972 - 5s - loss: 0.5494 - accuracy: 0.7118\n",
      "Epoch 28/30\n",
      "159972/159972 - 5s - loss: 0.5494 - accuracy: 0.7115\n",
      "Epoch 29/30\n",
      "159972/159972 - 5s - loss: 0.5492 - accuracy: 0.7115\n",
      "Epoch 30/30\n",
      "159972/159972 - 5s - loss: 0.5491 - accuracy: 0.7107\n"
     ]
    },
    {
     "data": {
      "text/plain": [
       "<tensorflow.python.keras.callbacks.History at 0x22832830630>"
      ]
     },
     "execution_count": 70,
     "metadata": {},
     "output_type": "execute_result"
    }
   ],
   "source": [
    "model.fit(\n",
    "    X_train_scaled,\n",
    "    y_train_categorical,\n",
    "    epochs=30,\n",
    "    shuffle=True,\n",
    "    verbose=2\n",
    ")\n"
   ]
  },
  {
   "cell_type": "markdown",
   "metadata": {},
   "source": [
    "# Deep Learning Model"
   ]
  },
  {
   "cell_type": "code",
   "execution_count": 27,
   "metadata": {},
   "outputs": [],
   "source": [
    "#Create a Deep Learning network and add another layer \n",
    "\n",
    "deep_model = Sequential()\n",
    "deep_model.add(Dense(units=9, activation='relu', input_dim=3))\n",
    "deep_model.add(Dense(units=9, activation='relu')) # extra hidden layer, units = 6 like 1st hidden layer\n",
    "deep_model.add(Dense(units=2, activation='softmax')) "
   ]
  },
  {
   "cell_type": "code",
   "execution_count": 28,
   "metadata": {},
   "outputs": [
    {
     "name": "stdout",
     "output_type": "stream",
     "text": [
      "Model: \"sequential_1\"\n",
      "_________________________________________________________________\n",
      "Layer (type)                 Output Shape              Param #   \n",
      "=================================================================\n",
      "dense_2 (Dense)              (None, 9)                 36        \n",
      "_________________________________________________________________\n",
      "dense_3 (Dense)              (None, 2)                 20        \n",
      "=================================================================\n",
      "Total params: 56\n",
      "Trainable params: 56\n",
      "Non-trainable params: 0\n",
      "_________________________________________________________________\n"
     ]
    }
   ],
   "source": [
    "model.summary()"
   ]
  },
  {
   "cell_type": "code",
   "execution_count": 30,
   "metadata": {},
   "outputs": [
    {
     "name": "stdout",
     "output_type": "stream",
     "text": [
      "Train on 159972 samples\n",
      "Epoch 1/60\n",
      "159972/159972 - 5s - loss: 0.5723 - accuracy: 0.6958\n",
      "Epoch 2/60\n",
      "159972/159972 - 5s - loss: 0.5466 - accuracy: 0.7119\n",
      "Epoch 3/60\n",
      "159972/159972 - 5s - loss: 0.5422 - accuracy: 0.7125\n",
      "Epoch 4/60\n",
      "159972/159972 - 5s - loss: 0.5379 - accuracy: 0.7074\n",
      "Epoch 5/60\n",
      "159972/159972 - 5s - loss: 0.5344 - accuracy: 0.7036\n",
      "Epoch 6/60\n",
      "159972/159972 - 5s - loss: 0.5323 - accuracy: 0.7017\n",
      "Epoch 7/60\n",
      "159972/159972 - 5s - loss: 0.5309 - accuracy: 0.6989\n",
      "Epoch 8/60\n",
      "159972/159972 - 5s - loss: 0.5299 - accuracy: 0.6983\n",
      "Epoch 9/60\n",
      "159972/159972 - 5s - loss: 0.5294 - accuracy: 0.6978\n",
      "Epoch 10/60\n",
      "159972/159972 - 5s - loss: 0.5287 - accuracy: 0.6972\n",
      "Epoch 11/60\n",
      "159972/159972 - 5s - loss: 0.5286 - accuracy: 0.6963\n",
      "Epoch 12/60\n",
      "159972/159972 - 5s - loss: 0.5279 - accuracy: 0.6958\n",
      "Epoch 13/60\n",
      "159972/159972 - 6s - loss: 0.5277 - accuracy: 0.6957\n",
      "Epoch 14/60\n",
      "159972/159972 - 5s - loss: 0.5274 - accuracy: 0.6960\n",
      "Epoch 15/60\n",
      "159972/159972 - 6s - loss: 0.5272 - accuracy: 0.6951\n",
      "Epoch 16/60\n",
      "159972/159972 - 5s - loss: 0.5270 - accuracy: 0.6951\n",
      "Epoch 17/60\n",
      "159972/159972 - 5s - loss: 0.5268 - accuracy: 0.6957\n",
      "Epoch 18/60\n",
      "159972/159972 - 5s - loss: 0.5263 - accuracy: 0.6943\n",
      "Epoch 19/60\n",
      "159972/159972 - 5s - loss: 0.5263 - accuracy: 0.6948\n",
      "Epoch 20/60\n",
      "159972/159972 - 5s - loss: 0.5262 - accuracy: 0.6941\n",
      "Epoch 21/60\n",
      "159972/159972 - 5s - loss: 0.5259 - accuracy: 0.6948\n",
      "Epoch 22/60\n",
      "159972/159972 - 5s - loss: 0.5258 - accuracy: 0.6951\n",
      "Epoch 23/60\n",
      "159972/159972 - 5s - loss: 0.5254 - accuracy: 0.6941\n",
      "Epoch 24/60\n",
      "159972/159972 - 5s - loss: 0.5253 - accuracy: 0.6945\n",
      "Epoch 25/60\n",
      "159972/159972 - 5s - loss: 0.5257 - accuracy: 0.6946\n",
      "Epoch 26/60\n",
      "159972/159972 - 5s - loss: 0.5252 - accuracy: 0.6939\n",
      "Epoch 27/60\n",
      "159972/159972 - 5s - loss: 0.5252 - accuracy: 0.6939\n",
      "Epoch 28/60\n",
      "159972/159972 - 5s - loss: 0.5250 - accuracy: 0.6943\n",
      "Epoch 29/60\n",
      "159972/159972 - 5s - loss: 0.5247 - accuracy: 0.6935\n",
      "Epoch 30/60\n",
      "159972/159972 - 5s - loss: 0.5245 - accuracy: 0.6940\n",
      "Epoch 31/60\n",
      "159972/159972 - 5s - loss: 0.5249 - accuracy: 0.6933\n",
      "Epoch 32/60\n",
      "159972/159972 - 5s - loss: 0.5246 - accuracy: 0.6939\n",
      "Epoch 33/60\n",
      "159972/159972 - 5s - loss: 0.5245 - accuracy: 0.6944\n",
      "Epoch 34/60\n",
      "159972/159972 - 5s - loss: 0.5244 - accuracy: 0.6939\n",
      "Epoch 35/60\n",
      "159972/159972 - 5s - loss: 0.5244 - accuracy: 0.6940\n",
      "Epoch 36/60\n",
      "159972/159972 - 5s - loss: 0.5246 - accuracy: 0.6935\n",
      "Epoch 37/60\n",
      "159972/159972 - 5s - loss: 0.5245 - accuracy: 0.6937\n",
      "Epoch 38/60\n",
      "159972/159972 - 5s - loss: 0.5244 - accuracy: 0.6942\n",
      "Epoch 39/60\n",
      "159972/159972 - 5s - loss: 0.5244 - accuracy: 0.6939\n",
      "Epoch 40/60\n",
      "159972/159972 - 5s - loss: 0.5243 - accuracy: 0.6940\n",
      "Epoch 41/60\n",
      "159972/159972 - 5s - loss: 0.5244 - accuracy: 0.6943\n",
      "Epoch 42/60\n",
      "159972/159972 - 5s - loss: 0.5243 - accuracy: 0.6942\n",
      "Epoch 43/60\n",
      "159972/159972 - 5s - loss: 0.5241 - accuracy: 0.6939\n",
      "Epoch 44/60\n",
      "159972/159972 - 5s - loss: 0.5243 - accuracy: 0.6942\n",
      "Epoch 45/60\n",
      "159972/159972 - 5s - loss: 0.5244 - accuracy: 0.6942\n",
      "Epoch 46/60\n",
      "159972/159972 - 5s - loss: 0.5241 - accuracy: 0.6941\n",
      "Epoch 47/60\n",
      "159972/159972 - 5s - loss: 0.5241 - accuracy: 0.6940\n",
      "Epoch 48/60\n",
      "159972/159972 - 5s - loss: 0.5239 - accuracy: 0.6941\n",
      "Epoch 49/60\n",
      "159972/159972 - 5s - loss: 0.5244 - accuracy: 0.6937\n",
      "Epoch 50/60\n",
      "159972/159972 - 5s - loss: 0.5242 - accuracy: 0.6933\n",
      "Epoch 51/60\n",
      "159972/159972 - 5s - loss: 0.5239 - accuracy: 0.6932\n",
      "Epoch 52/60\n",
      "159972/159972 - 5s - loss: 0.5238 - accuracy: 0.6939\n",
      "Epoch 53/60\n",
      "159972/159972 - 5s - loss: 0.5241 - accuracy: 0.6939\n",
      "Epoch 54/60\n",
      "159972/159972 - 5s - loss: 0.5241 - accuracy: 0.6939\n",
      "Epoch 55/60\n",
      "159972/159972 - 5s - loss: 0.5243 - accuracy: 0.6939\n",
      "Epoch 56/60\n",
      "159972/159972 - 5s - loss: 0.5240 - accuracy: 0.6937\n",
      "Epoch 57/60\n",
      "159972/159972 - 5s - loss: 0.5241 - accuracy: 0.6936\n",
      "Epoch 58/60\n",
      "159972/159972 - 5s - loss: 0.5239 - accuracy: 0.6934\n",
      "Epoch 59/60\n",
      "159972/159972 - 5s - loss: 0.5240 - accuracy: 0.6937\n",
      "Epoch 60/60\n",
      "159972/159972 - 5s - loss: 0.5238 - accuracy: 0.6936\n"
     ]
    },
    {
     "data": {
      "text/plain": [
       "<tensorflow.python.keras.callbacks.History at 0x2282bc2c3c8>"
      ]
     },
     "execution_count": 30,
     "metadata": {},
     "output_type": "execute_result"
    }
   ],
   "source": [
    "# Compile and fit the Deep Learning model\n",
    "\n",
    "deep_model.compile(optimizer='adam',\n",
    "                   loss='categorical_crossentropy',\n",
    "                   metrics=['accuracy'])\n",
    "\n",
    "deep_model.fit(\n",
    "    X_train_scaled,\n",
    "    y_train_categorical,\n",
    "    epochs=60,\n",
    "    shuffle=True,\n",
    "    verbose=2\n",
    ")"
   ]
  },
  {
   "cell_type": "markdown",
   "metadata": {},
   "source": [
    "# Compare the Models"
   ]
  },
  {
   "cell_type": "code",
   "execution_count": 31,
   "metadata": {},
   "outputs": [
    {
     "name": "stdout",
     "output_type": "stream",
     "text": [
      "53324/53324 - 1s - loss: 0.5150 - accuracy: 0.7158\n",
      "Normal Neural Network - Loss: 0.5149905873153351, Accuracy: 0.7157752513885498\n"
     ]
    }
   ],
   "source": [
    "model_loss, model_accuracy = model.evaluate(\n",
    "    X_test_scaled, y_test_categorical, verbose=2)\n",
    "print(\n",
    "    f\"Normal Neural Network - Loss: {model_loss}, Accuracy: {model_accuracy}\")"
   ]
  },
  {
   "cell_type": "code",
   "execution_count": 32,
   "metadata": {},
   "outputs": [
    {
     "name": "stdout",
     "output_type": "stream",
     "text": [
      "53324/53324 - 1s - loss: 0.5290 - accuracy: 0.6881\n",
      "Deep Neural Network - Loss: 0.5290470045292138, Accuracy: 0.6880766749382019\n"
     ]
    }
   ],
   "source": [
    "model_loss, model_accuracy = deep_model.evaluate(\n",
    "    X_test_scaled, y_test_categorical, verbose=2)\n",
    "print(f\"Deep Neural Network - Loss: {model_loss}, Accuracy: {model_accuracy}\")"
   ]
  },
  {
   "cell_type": "code",
   "execution_count": null,
   "metadata": {},
   "outputs": [],
   "source": []
  }
 ],
 "metadata": {
  "kernelspec": {
   "display_name": "Python 3",
   "language": "python",
   "name": "python3"
  },
  "language_info": {
   "codemirror_mode": {
    "name": "ipython",
    "version": 3
   },
   "file_extension": ".py",
   "mimetype": "text/x-python",
   "name": "python",
   "nbconvert_exporter": "python",
   "pygments_lexer": "ipython3",
   "version": "3.6.10"
  }
 },
 "nbformat": 4,
 "nbformat_minor": 4
}
