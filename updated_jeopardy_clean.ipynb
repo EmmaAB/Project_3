{
  "nbformat": 4,
  "nbformat_minor": 0,
  "metadata": {
    "colab": {
      "name": "updated_jeopardy_clean.ipynb",
      "provenance": [],
      "collapsed_sections": [],
      "include_colab_link": true
    },
    "kernelspec": {
      "display_name": "Python 3",
      "name": "python3"
    }
  },
  "cells": [
    {
      "cell_type": "markdown",
      "metadata": {
        "id": "view-in-github",
        "colab_type": "text"
      },
      "source": [
        "<a href=\"https://colab.research.google.com/github/EmmaAB/Project_3/blob/main/updated_jeopardy_clean.ipynb\" target=\"_parent\"><img src=\"https://colab.research.google.com/assets/colab-badge.svg\" alt=\"Open In Colab\"/></a>"
      ]
    },
    {
      "cell_type": "code",
      "metadata": {
        "id": "2hApychodYI0",
        "colab": {
          "base_uri": "https://localhost:8080/"
        },
        "outputId": "6630532f-ccac-4175-9b0d-10f74d057395"
      },
      "source": [
        "import os\n",
        "# Find the latest version of spark 3.0  from http://www-us.apache.org/dist/spark/ and enter as the spark version\n",
        "# For example:\n",
        "spark_version = 'spark-3.0.1'\n",
        "# spark_version = 'spark-3.<enter version>'\n",
        "os.environ['SPARK_VERSION']=spark_version\n",
        "\n",
        "# Install Spark and Java\n",
        "!apt-get update\n",
        "!apt-get install openjdk-11-jdk-headless -qq > /dev/null\n",
        "!wget -q http://www-us.apache.org/dist/spark/$SPARK_VERSION/$SPARK_VERSION-bin-hadoop2.7.tgz\n",
        "!tar xf $SPARK_VERSION-bin-hadoop2.7.tgz\n",
        "!pip install -q findspark\n",
        "\n",
        "# Set Environment Variables\n",
        "os.environ[\"JAVA_HOME\"] = \"/usr/lib/jvm/java-11-openjdk-amd64\"\n",
        "os.environ[\"SPARK_HOME\"] = f\"/content/{spark_version}-bin-hadoop2.7\"\n",
        "\n",
        "# Start a SparkSession\n",
        "import findspark\n",
        "findspark.init()"
      ],
      "execution_count": null,
      "outputs": [
        {
          "output_type": "stream",
          "text": [
            "Get:1 https://cloud.r-project.org/bin/linux/ubuntu bionic-cran40/ InRelease [3,626 B]\n",
            "Ign:2 https://developer.download.nvidia.com/compute/cuda/repos/ubuntu1804/x86_64  InRelease\n",
            "Ign:3 https://developer.download.nvidia.com/compute/machine-learning/repos/ubuntu1804/x86_64  InRelease\n",
            "Hit:4 https://developer.download.nvidia.com/compute/cuda/repos/ubuntu1804/x86_64  Release\n",
            "Hit:5 https://developer.download.nvidia.com/compute/machine-learning/repos/ubuntu1804/x86_64  Release\n",
            "Hit:6 http://ppa.launchpad.net/c2d4u.team/c2d4u4.0+/ubuntu bionic InRelease\n",
            "Get:7 http://security.ubuntu.com/ubuntu bionic-security InRelease [88.7 kB]\n",
            "Hit:9 http://archive.ubuntu.com/ubuntu bionic InRelease\n",
            "Hit:11 http://ppa.launchpad.net/graphics-drivers/ppa/ubuntu bionic InRelease\n",
            "Get:12 http://archive.ubuntu.com/ubuntu bionic-updates InRelease [88.7 kB]\n",
            "Get:13 http://archive.ubuntu.com/ubuntu bionic-backports InRelease [74.6 kB]\n",
            "Fetched 256 kB in 2s (118 kB/s)\n",
            "Reading package lists... Done\n"
          ],
          "name": "stdout"
        }
      ]
    },
    {
      "cell_type": "code",
      "metadata": {
        "id": "tEAanL4Hallb",
        "colab": {
          "base_uri": "https://localhost:8080/"
        },
        "outputId": "d6f9ddbf-6a92-4ae7-85bf-a5cf9c40458f"
      },
      "source": [
        "!wget https://jdbc.postgresql.org/download/postgresql-42.2.9.jar"
      ],
      "execution_count": null,
      "outputs": [
        {
          "output_type": "stream",
          "text": [
            "--2020-11-21 16:38:56--  https://jdbc.postgresql.org/download/postgresql-42.2.9.jar\n",
            "Resolving jdbc.postgresql.org (jdbc.postgresql.org)... 72.32.157.228, 2001:4800:3e1:1::228\n",
            "Connecting to jdbc.postgresql.org (jdbc.postgresql.org)|72.32.157.228|:443... connected.\n",
            "HTTP request sent, awaiting response... 200 OK\n",
            "Length: 914037 (893K) [application/java-archive]\n",
            "Saving to: ‘postgresql-42.2.9.jar’\n",
            "\n",
            "postgresql-42.2.9.j 100%[===================>] 892.61K  1.05MB/s    in 0.8s    \n",
            "\n",
            "2020-11-21 16:38:58 (1.05 MB/s) - ‘postgresql-42.2.9.jar’ saved [914037/914037]\n",
            "\n"
          ],
          "name": "stdout"
        }
      ]
    },
    {
      "cell_type": "code",
      "metadata": {
        "id": "MKraIHeBoMTo"
      },
      "source": [
        "# Start Spark session\n",
        "from pyspark.sql import SparkSession\n",
        "spark = SparkSession.builder.appName(\"CloudETL\").config(\"spark.driver.extraClassPath\",\"/content/postgresql-42.2.9.jar\").getOrCreate()\n"
      ],
      "execution_count": null,
      "outputs": []
    },
    {
      "cell_type": "code",
      "metadata": {
        "id": "M8M4H1W3dj5S",
        "colab": {
          "base_uri": "https://localhost:8080/"
        },
        "outputId": "f9a0390d-c529-47e5-b639-cfc6e0135a47"
      },
      "source": [
        " # Read in data from S3 Buckets\n",
        "from pyspark import SparkFiles\n",
        "url = \"https://finalprojectjeopardy.s3.amazonaws.com/JEOPARDY_CSV.csv\"\n",
        "spark.sparkContext.addFile(url)\n",
        "df = spark.read.option('header', 'true').csv(SparkFiles.get(\"JEOPARDY_CSV.csv\"), inferSchema=True, sep=',', quote=\"\\\"\", escape=\"\\\"\")\n",
        "\n",
        "# Show DataFrame\n",
        "df.show()\n",
        "df.select(\" Value\").distinct().show()"
      ],
      "execution_count": null,
      "outputs": [
        {
          "output_type": "stream",
          "text": [
            "+-----------+----------+---------+--------------------+------+--------------------+--------------------+\n",
            "|Show Number|  Air Date|    Round|            Category| Value|            Question|              Answer|\n",
            "+-----------+----------+---------+--------------------+------+--------------------+--------------------+\n",
            "|       4680|2004-12-31|Jeopardy!|             HISTORY|  $200|For the last 8 ye...|          Copernicus|\n",
            "|       4680|2004-12-31|Jeopardy!|ESPN's TOP 10 ALL...|  $200|No. 2: 1912 Olymp...|          Jim Thorpe|\n",
            "|       4680|2004-12-31|Jeopardy!|EVERYBODY TALKS A...|  $200|The city of Yuma ...|             Arizona|\n",
            "|       4680|2004-12-31|Jeopardy!|    THE COMPANY LINE|  $200|In 1963, live on ...|          McDonald's|\n",
            "|       4680|2004-12-31|Jeopardy!| EPITAPHS & TRIBUTES|  $200|Signer of the Dec...|          John Adams|\n",
            "|       4680|2004-12-31|Jeopardy!|      3-LETTER WORDS|  $200|In the title of a...|             the ant|\n",
            "|       4680|2004-12-31|Jeopardy!|             HISTORY|  $400|Built in 312 B.C....|      the Appian Way|\n",
            "|       4680|2004-12-31|Jeopardy!|ESPN's TOP 10 ALL...|  $400|No. 8: 30 steals ...|      Michael Jordan|\n",
            "|       4680|2004-12-31|Jeopardy!|EVERYBODY TALKS A...|  $400|In the winter of ...|          Washington|\n",
            "|       4680|2004-12-31|Jeopardy!|    THE COMPANY LINE|  $400|This housewares s...|      Crate & Barrel|\n",
            "|       4680|2004-12-31|Jeopardy!| EPITAPHS & TRIBUTES|  $400|    \"And away we go\"|      Jackie Gleason|\n",
            "|       4680|2004-12-31|Jeopardy!|      3-LETTER WORDS|  $400|Cows regurgitate ...|             the cud|\n",
            "|       4680|2004-12-31|Jeopardy!|             HISTORY|  $600|In 1000 Rajaraja ...|Ceylon (or Sri La...|\n",
            "|       4680|2004-12-31|Jeopardy!|ESPN's TOP 10 ALL...|  $600|No. 1: Lettered i...|           Jim Brown|\n",
            "|       4680|2004-12-31|Jeopardy!|EVERYBODY TALKS A...|  $600|On June 28, 1994 ...|        the UV index|\n",
            "|       4680|2004-12-31|Jeopardy!|    THE COMPANY LINE|  $600|This company's Ac...|              Bulova|\n",
            "|       4680|2004-12-31|Jeopardy!| EPITAPHS & TRIBUTES|  $600|Outlaw: \"Murdered...|         Jesse James|\n",
            "|       4680|2004-12-31|Jeopardy!|      3-LETTER WORDS|  $600|A small demon, or...|                 imp|\n",
            "|       4680|2004-12-31|Jeopardy!|             HISTORY|  $800|Karl led the firs...|   the International|\n",
            "|       4680|2004-12-31|Jeopardy!|ESPN's TOP 10 ALL...|  $800|No. 10: FB/LB for...|        (Lou) Gehrig|\n",
            "+-----------+----------+---------+--------------------+------+--------------------+--------------------+\n",
            "only showing top 20 rows\n",
            "\n",
            "+-------+\n",
            "|  Value|\n",
            "+-------+\n",
            "| $2,127|\n",
            "| $5,800|\n",
            "| $6,600|\n",
            "| $8,400|\n",
            "| $4,400|\n",
            "| $2,600|\n",
            "| $3,000|\n",
            "| $1,183|\n",
            "| $4,600|\n",
            "|   $367|\n",
            "| $2,990|\n",
            "| $1,512|\n",
            "| $4,637|\n",
            "| $2,746|\n",
            "|   None|\n",
            "| $1,203|\n",
            "| $2,700|\n",
            "| $1,600|\n",
            "|$13,000|\n",
            "| $4,800|\n",
            "+-------+\n",
            "only showing top 20 rows\n",
            "\n"
          ],
          "name": "stdout"
        }
      ]
    },
    {
      "cell_type": "code",
      "metadata": {
        "id": "qxraiJWxfx_P"
      },
      "source": [
        "# import types\n",
        "from pyspark.sql.types import StructField, StringType, IntegerType, StructType\n",
        "\n"
      ],
      "execution_count": null,
      "outputs": []
    },
    {
      "cell_type": "code",
      "metadata": {
        "id": "bgLYG-i6d9Lc",
        "colab": {
          "base_uri": "https://localhost:8080/"
        },
        "outputId": "93bde43a-7e8c-4fdc-9580-bd4363a56020"
      },
      "source": [
        "# see column names\n",
        "df.columns"
      ],
      "execution_count": null,
      "outputs": [
        {
          "output_type": "execute_result",
          "data": {
            "text/plain": [
              "['Show Number',\n",
              " ' Air Date',\n",
              " ' Round',\n",
              " ' Category',\n",
              " ' Value',\n",
              " ' Question',\n",
              " ' Answer']"
            ]
          },
          "metadata": {
            "tags": []
          },
          "execution_count": 6
        }
      ]
    },
    {
      "cell_type": "code",
      "metadata": {
        "id": "XnqRoogJeXrs",
        "colab": {
          "base_uri": "https://localhost:8080/"
        },
        "outputId": "ebe7aebd-b074-40db-9df5-4c7d16c93128"
      },
      "source": [
        "# check count\n",
        "df.count()"
      ],
      "execution_count": null,
      "outputs": [
        {
          "output_type": "execute_result",
          "data": {
            "text/plain": [
              "216930"
            ]
          },
          "metadata": {
            "tags": []
          },
          "execution_count": 7
        }
      ]
    },
    {
      "cell_type": "code",
      "metadata": {
        "id": "REP1kicgeh12",
        "colab": {
          "base_uri": "https://localhost:8080/"
        },
        "outputId": "6f998fda-e8a6-4c55-9023-5d88be0ead44"
      },
      "source": [
        "# dropna\n",
        "df.dropna()"
      ],
      "execution_count": null,
      "outputs": [
        {
          "output_type": "execute_result",
          "data": {
            "text/plain": [
              "DataFrame[Show Number: int,  Air Date: string,  Round: string,  Category: string,  Value: string,  Question: string,  Answer: string]"
            ]
          },
          "metadata": {
            "tags": []
          },
          "execution_count": 8
        }
      ]
    },
    {
      "cell_type": "code",
      "metadata": {
        "id": "IvVSAQJjemdx",
        "colab": {
          "base_uri": "https://localhost:8080/"
        },
        "outputId": "546f9047-4697-4569-d52a-72f27de09239"
      },
      "source": [
        "# double check count\n",
        "df.count()"
      ],
      "execution_count": null,
      "outputs": [
        {
          "output_type": "execute_result",
          "data": {
            "text/plain": [
              "216930"
            ]
          },
          "metadata": {
            "tags": []
          },
          "execution_count": 9
        }
      ]
    },
    {
      "cell_type": "code",
      "metadata": {
        "id": "98WUzIdVlcXs",
        "colab": {
          "base_uri": "https://localhost:8080/"
        },
        "outputId": "1b7a06b9-a4ec-45ec-ab79-edf144493b45"
      },
      "source": [
        "# print schema\n",
        "df.printSchema()"
      ],
      "execution_count": null,
      "outputs": [
        {
          "output_type": "stream",
          "text": [
            "root\n",
            " |-- Show Number: integer (nullable = true)\n",
            " |--  Air Date: string (nullable = true)\n",
            " |--  Round: string (nullable = true)\n",
            " |--  Category: string (nullable = true)\n",
            " |--  Value: string (nullable = true)\n",
            " |--  Question: string (nullable = true)\n",
            " |--  Answer: string (nullable = true)\n",
            "\n"
          ],
          "name": "stdout"
        }
      ]
    },
    {
      "cell_type": "code",
      "metadata": {
        "id": "Sx7FcYms-GQA",
        "colab": {
          "base_uri": "https://localhost:8080/"
        },
        "outputId": "8393832f-fed7-4619-d8ac-d1695bd9b2c8"
      },
      "source": [
        "# rename the columns to have no spaces\n",
        "\n",
        "final = df.withColumnRenamed('Show Number', 'show_number').withColumnRenamed(\" Air Date\", \"air_date\").withColumnRenamed(' Round', 'round').withColumnRenamed(\" Category\", \"category\").withColumnRenamed(' Value', 'value').withColumnRenamed(\" Question\", \"question\").withColumnRenamed(' Answer', 'answer') \n",
        "final.show()"
      ],
      "execution_count": null,
      "outputs": [
        {
          "output_type": "stream",
          "text": [
            "+-----------+----------+---------+--------------------+-----+--------------------+--------------------+\n",
            "|show_number|  air_date|    round|            category|value|            question|              answer|\n",
            "+-----------+----------+---------+--------------------+-----+--------------------+--------------------+\n",
            "|       4680|2004-12-31|Jeopardy!|             HISTORY| $200|For the last 8 ye...|          Copernicus|\n",
            "|       4680|2004-12-31|Jeopardy!|ESPN's TOP 10 ALL...| $200|No. 2: 1912 Olymp...|          Jim Thorpe|\n",
            "|       4680|2004-12-31|Jeopardy!|EVERYBODY TALKS A...| $200|The city of Yuma ...|             Arizona|\n",
            "|       4680|2004-12-31|Jeopardy!|    THE COMPANY LINE| $200|In 1963, live on ...|          McDonald's|\n",
            "|       4680|2004-12-31|Jeopardy!| EPITAPHS & TRIBUTES| $200|Signer of the Dec...|          John Adams|\n",
            "|       4680|2004-12-31|Jeopardy!|      3-LETTER WORDS| $200|In the title of a...|             the ant|\n",
            "|       4680|2004-12-31|Jeopardy!|             HISTORY| $400|Built in 312 B.C....|      the Appian Way|\n",
            "|       4680|2004-12-31|Jeopardy!|ESPN's TOP 10 ALL...| $400|No. 8: 30 steals ...|      Michael Jordan|\n",
            "|       4680|2004-12-31|Jeopardy!|EVERYBODY TALKS A...| $400|In the winter of ...|          Washington|\n",
            "|       4680|2004-12-31|Jeopardy!|    THE COMPANY LINE| $400|This housewares s...|      Crate & Barrel|\n",
            "|       4680|2004-12-31|Jeopardy!| EPITAPHS & TRIBUTES| $400|    \"And away we go\"|      Jackie Gleason|\n",
            "|       4680|2004-12-31|Jeopardy!|      3-LETTER WORDS| $400|Cows regurgitate ...|             the cud|\n",
            "|       4680|2004-12-31|Jeopardy!|             HISTORY| $600|In 1000 Rajaraja ...|Ceylon (or Sri La...|\n",
            "|       4680|2004-12-31|Jeopardy!|ESPN's TOP 10 ALL...| $600|No. 1: Lettered i...|           Jim Brown|\n",
            "|       4680|2004-12-31|Jeopardy!|EVERYBODY TALKS A...| $600|On June 28, 1994 ...|        the UV index|\n",
            "|       4680|2004-12-31|Jeopardy!|    THE COMPANY LINE| $600|This company's Ac...|              Bulova|\n",
            "|       4680|2004-12-31|Jeopardy!| EPITAPHS & TRIBUTES| $600|Outlaw: \"Murdered...|         Jesse James|\n",
            "|       4680|2004-12-31|Jeopardy!|      3-LETTER WORDS| $600|A small demon, or...|                 imp|\n",
            "|       4680|2004-12-31|Jeopardy!|             HISTORY| $800|Karl led the firs...|   the International|\n",
            "|       4680|2004-12-31|Jeopardy!|ESPN's TOP 10 ALL...| $800|No. 10: FB/LB for...|        (Lou) Gehrig|\n",
            "+-----------+----------+---------+--------------------+-----+--------------------+--------------------+\n",
            "only showing top 20 rows\n",
            "\n"
          ],
          "name": "stdout"
        }
      ]
    },
    {
      "cell_type": "code",
      "metadata": {
        "id": "yJ9h6cFlkQrj",
        "colab": {
          "base_uri": "https://localhost:8080/"
        },
        "outputId": "7ee2957b-9568-405f-854e-dcdf46684f09"
      },
      "source": [
        "# take out none\n",
        "\n",
        "from pyspark.sql.functions import *\n",
        "from pyspark.sql.functions import expr\n",
        "\n",
        "final = final.withColumn('value', expr(\"regexp_replace(value, 'None', 0)\"))\n",
        "final.show()\n",
        "\n",
        "final.select(\"value\").distinct().show()\n"
      ],
      "execution_count": null,
      "outputs": [
        {
          "output_type": "stream",
          "text": [
            "+-----------+----------+---------+--------------------+-----+--------------------+--------------------+\n",
            "|show_number|  air_date|    round|            category|value|            question|              answer|\n",
            "+-----------+----------+---------+--------------------+-----+--------------------+--------------------+\n",
            "|       4680|2004-12-31|Jeopardy!|             HISTORY| $200|For the last 8 ye...|          Copernicus|\n",
            "|       4680|2004-12-31|Jeopardy!|ESPN's TOP 10 ALL...| $200|No. 2: 1912 Olymp...|          Jim Thorpe|\n",
            "|       4680|2004-12-31|Jeopardy!|EVERYBODY TALKS A...| $200|The city of Yuma ...|             Arizona|\n",
            "|       4680|2004-12-31|Jeopardy!|    THE COMPANY LINE| $200|In 1963, live on ...|          McDonald's|\n",
            "|       4680|2004-12-31|Jeopardy!| EPITAPHS & TRIBUTES| $200|Signer of the Dec...|          John Adams|\n",
            "|       4680|2004-12-31|Jeopardy!|      3-LETTER WORDS| $200|In the title of a...|             the ant|\n",
            "|       4680|2004-12-31|Jeopardy!|             HISTORY| $400|Built in 312 B.C....|      the Appian Way|\n",
            "|       4680|2004-12-31|Jeopardy!|ESPN's TOP 10 ALL...| $400|No. 8: 30 steals ...|      Michael Jordan|\n",
            "|       4680|2004-12-31|Jeopardy!|EVERYBODY TALKS A...| $400|In the winter of ...|          Washington|\n",
            "|       4680|2004-12-31|Jeopardy!|    THE COMPANY LINE| $400|This housewares s...|      Crate & Barrel|\n",
            "|       4680|2004-12-31|Jeopardy!| EPITAPHS & TRIBUTES| $400|    \"And away we go\"|      Jackie Gleason|\n",
            "|       4680|2004-12-31|Jeopardy!|      3-LETTER WORDS| $400|Cows regurgitate ...|             the cud|\n",
            "|       4680|2004-12-31|Jeopardy!|             HISTORY| $600|In 1000 Rajaraja ...|Ceylon (or Sri La...|\n",
            "|       4680|2004-12-31|Jeopardy!|ESPN's TOP 10 ALL...| $600|No. 1: Lettered i...|           Jim Brown|\n",
            "|       4680|2004-12-31|Jeopardy!|EVERYBODY TALKS A...| $600|On June 28, 1994 ...|        the UV index|\n",
            "|       4680|2004-12-31|Jeopardy!|    THE COMPANY LINE| $600|This company's Ac...|              Bulova|\n",
            "|       4680|2004-12-31|Jeopardy!| EPITAPHS & TRIBUTES| $600|Outlaw: \"Murdered...|         Jesse James|\n",
            "|       4680|2004-12-31|Jeopardy!|      3-LETTER WORDS| $600|A small demon, or...|                 imp|\n",
            "|       4680|2004-12-31|Jeopardy!|             HISTORY| $800|Karl led the firs...|   the International|\n",
            "|       4680|2004-12-31|Jeopardy!|ESPN's TOP 10 ALL...| $800|No. 10: FB/LB for...|        (Lou) Gehrig|\n",
            "+-----------+----------+---------+--------------------+-----+--------------------+--------------------+\n",
            "only showing top 20 rows\n",
            "\n",
            "+-------+\n",
            "|  value|\n",
            "+-------+\n",
            "| $2,127|\n",
            "| $5,800|\n",
            "| $6,600|\n",
            "| $8,400|\n",
            "| $4,400|\n",
            "| $2,600|\n",
            "| $3,000|\n",
            "| $1,183|\n",
            "| $4,600|\n",
            "|   $367|\n",
            "| $2,990|\n",
            "| $1,512|\n",
            "| $4,637|\n",
            "| $2,746|\n",
            "| $1,203|\n",
            "| $2,700|\n",
            "| $1,600|\n",
            "|$13,000|\n",
            "| $4,800|\n",
            "| $2,811|\n",
            "+-------+\n",
            "only showing top 20 rows\n",
            "\n"
          ],
          "name": "stdout"
        }
      ]
    },
    {
      "cell_type": "code",
      "metadata": {
        "id": "Ylg5a2BNOH91",
        "colab": {
          "base_uri": "https://localhost:8080/"
        },
        "outputId": "51ca2980-aa3f-4fc1-8dfe-bfeda1df657b"
      },
      "source": [
        "# drop 0\n",
        "\n",
        "# df = df.filter((df.A != 'NA') & (df.B != 'NA') & (df.C != 'NA'))\n",
        "# df.show()\n",
        "# data=sc.TextFile('file1.txt')\n",
        "# def dropFirstRow(index,iterator):\n",
        "#      if(index==0):\n",
        "#           for subIndex,item in enumerate(iterator):\n",
        "#                if subIndex > 0:\n",
        "#                     yield item\n",
        "#      else:\n",
        "#           yield iterator\n",
        "\n",
        "# data=sc.TextFile('file1.txt')\n",
        "# def dropFirstRow(index,iterator):\n",
        "#      return iter(list(iterator)[1:]) if index==0 else iterator\n",
        "# data=data.mapPartitionsWithIndex(dropFirstRow)\n",
        "\n",
        "# df_orders1=df_orders.where(\"cust_no!=23512\")\n",
        "\n",
        "# people.filter(people.age > 30)\n",
        "\n",
        "\n",
        "# final = final.filter(final.value > 0)\n",
        "# final.show()\n",
        "\n",
        "# final = final.dropna()\n",
        "# final.show\n"
      ],
      "execution_count": null,
      "outputs": [
        {
          "output_type": "stream",
          "text": [
            "+-----------+--------+-----+--------+-----+--------+------+\n",
            "|show_number|air_date|round|category|value|question|answer|\n",
            "+-----------+--------+-----+--------+-----+--------+------+\n",
            "+-----------+--------+-----+--------+-----+--------+------+\n",
            "\n"
          ],
          "name": "stdout"
        }
      ]
    },
    {
      "cell_type": "code",
      "metadata": {
        "colab": {
          "base_uri": "https://localhost:8080/"
        },
        "id": "FANwWMUSzgQE",
        "outputId": "7858b4bc-2175-4e2f-a22d-e9f40688b21d"
      },
      "source": [
        "# check to see if dropped\n",
        "final.count()"
      ],
      "execution_count": null,
      "outputs": [
        {
          "output_type": "execute_result",
          "data": {
            "text/plain": [
              "0"
            ]
          },
          "metadata": {
            "tags": []
          },
          "execution_count": 17
        }
      ]
    },
    {
      "cell_type": "code",
      "metadata": {
        "id": "u3eTDCdyo3FA",
        "colab": {
          "base_uri": "https://localhost:8080/"
        },
        "outputId": "771bd0cf-e4d4-4183-a38b-6b5db9c62688"
      },
      "source": [
        "# Configure date variable \n",
        "# from pyspark.sql.functions import year, month, day\n",
        "from pyspark.sql.functions import to_date, month, year\n",
        "\n",
        "final = final.withColumn('air_date',to_date(final.air_date, 'yyyy-MM-dd'))\n",
        "final.printSchema()\n"
      ],
      "execution_count": null,
      "outputs": [
        {
          "output_type": "stream",
          "text": [
            "root\n",
            " |-- show_number: integer (nullable = true)\n",
            " |-- air_date: date (nullable = true)\n",
            " |-- round: string (nullable = true)\n",
            " |-- category: string (nullable = true)\n",
            " |-- value: string (nullable = true)\n",
            " |-- question: string (nullable = true)\n",
            " |-- answer: string (nullable = true)\n",
            "\n"
          ],
          "name": "stdout"
        }
      ]
    },
    {
      "cell_type": "code",
      "metadata": {
        "colab": {
          "base_uri": "https://localhost:8080/"
        },
        "id": "-ZZDlOrZlIFS",
        "outputId": "a5ce5351-5c65-47b4-e455-8e00254de66c"
      },
      "source": [
        "#Make Year + Month column\n",
        "final.select(year(final[\"air_date\"])).show()\n",
        "final.select(month(final[\"air_date\"])).show()\n"
      ],
      "execution_count": null,
      "outputs": [
        {
          "output_type": "stream",
          "text": [
            "+--------------+\n",
            "|year(air_date)|\n",
            "+--------------+\n",
            "|          2004|\n",
            "|          2004|\n",
            "|          2004|\n",
            "|          2004|\n",
            "|          2004|\n",
            "|          2004|\n",
            "|          2004|\n",
            "|          2004|\n",
            "|          2004|\n",
            "|          2004|\n",
            "|          2004|\n",
            "|          2004|\n",
            "|          2004|\n",
            "|          2004|\n",
            "|          2004|\n",
            "|          2004|\n",
            "|          2004|\n",
            "|          2004|\n",
            "|          2004|\n",
            "|          2004|\n",
            "+--------------+\n",
            "only showing top 20 rows\n",
            "\n",
            "+---------------+\n",
            "|month(air_date)|\n",
            "+---------------+\n",
            "|             12|\n",
            "|             12|\n",
            "|             12|\n",
            "|             12|\n",
            "|             12|\n",
            "|             12|\n",
            "|             12|\n",
            "|             12|\n",
            "|             12|\n",
            "|             12|\n",
            "|             12|\n",
            "|             12|\n",
            "|             12|\n",
            "|             12|\n",
            "|             12|\n",
            "|             12|\n",
            "|             12|\n",
            "|             12|\n",
            "|             12|\n",
            "|             12|\n",
            "+---------------+\n",
            "only showing top 20 rows\n",
            "\n"
          ],
          "name": "stdout"
        }
      ]
    },
    {
      "cell_type": "code",
      "metadata": {
        "colab": {
          "base_uri": "https://localhost:8080/"
        },
        "id": "Yc3Z7YVDl0bk",
        "outputId": "9c30a9df-d56b-4cb7-e9c4-20f34d1726f9"
      },
      "source": [
        "#Add year and month columns to dataframe\n",
        "final = final.withColumn(\"year\", year(final[\"air_date\"]))\n",
        "final = final.withColumn(\"month\", month(final[\"air_date\"]))\n",
        "final.show()\n"
      ],
      "execution_count": null,
      "outputs": [
        {
          "output_type": "stream",
          "text": [
            "+-----------+----------+---------+--------------------+-----+--------------------+--------------------+----+-----+\n",
            "|show_number|  air_date|    round|            category|value|            question|              answer|year|month|\n",
            "+-----------+----------+---------+--------------------+-----+--------------------+--------------------+----+-----+\n",
            "|       4680|2004-12-31|Jeopardy!|             HISTORY| $200|For the last 8 ye...|          Copernicus|2004|   12|\n",
            "|       4680|2004-12-31|Jeopardy!|ESPN's TOP 10 ALL...| $200|No. 2: 1912 Olymp...|          Jim Thorpe|2004|   12|\n",
            "|       4680|2004-12-31|Jeopardy!|EVERYBODY TALKS A...| $200|The city of Yuma ...|             Arizona|2004|   12|\n",
            "|       4680|2004-12-31|Jeopardy!|    THE COMPANY LINE| $200|In 1963, live on ...|          McDonald's|2004|   12|\n",
            "|       4680|2004-12-31|Jeopardy!| EPITAPHS & TRIBUTES| $200|Signer of the Dec...|          John Adams|2004|   12|\n",
            "|       4680|2004-12-31|Jeopardy!|      3-LETTER WORDS| $200|In the title of a...|             the ant|2004|   12|\n",
            "|       4680|2004-12-31|Jeopardy!|             HISTORY| $400|Built in 312 B.C....|      the Appian Way|2004|   12|\n",
            "|       4680|2004-12-31|Jeopardy!|ESPN's TOP 10 ALL...| $400|No. 8: 30 steals ...|      Michael Jordan|2004|   12|\n",
            "|       4680|2004-12-31|Jeopardy!|EVERYBODY TALKS A...| $400|In the winter of ...|          Washington|2004|   12|\n",
            "|       4680|2004-12-31|Jeopardy!|    THE COMPANY LINE| $400|This housewares s...|      Crate & Barrel|2004|   12|\n",
            "|       4680|2004-12-31|Jeopardy!| EPITAPHS & TRIBUTES| $400|    \"And away we go\"|      Jackie Gleason|2004|   12|\n",
            "|       4680|2004-12-31|Jeopardy!|      3-LETTER WORDS| $400|Cows regurgitate ...|             the cud|2004|   12|\n",
            "|       4680|2004-12-31|Jeopardy!|             HISTORY| $600|In 1000 Rajaraja ...|Ceylon (or Sri La...|2004|   12|\n",
            "|       4680|2004-12-31|Jeopardy!|ESPN's TOP 10 ALL...| $600|No. 1: Lettered i...|           Jim Brown|2004|   12|\n",
            "|       4680|2004-12-31|Jeopardy!|EVERYBODY TALKS A...| $600|On June 28, 1994 ...|        the UV index|2004|   12|\n",
            "|       4680|2004-12-31|Jeopardy!|    THE COMPANY LINE| $600|This company's Ac...|              Bulova|2004|   12|\n",
            "|       4680|2004-12-31|Jeopardy!| EPITAPHS & TRIBUTES| $600|Outlaw: \"Murdered...|         Jesse James|2004|   12|\n",
            "|       4680|2004-12-31|Jeopardy!|      3-LETTER WORDS| $600|A small demon, or...|                 imp|2004|   12|\n",
            "|       4680|2004-12-31|Jeopardy!|             HISTORY| $800|Karl led the firs...|   the International|2004|   12|\n",
            "|       4680|2004-12-31|Jeopardy!|ESPN's TOP 10 ALL...| $800|No. 10: FB/LB for...|        (Lou) Gehrig|2004|   12|\n",
            "+-----------+----------+---------+--------------------+-----+--------------------+--------------------+----+-----+\n",
            "only showing top 20 rows\n",
            "\n"
          ],
          "name": "stdout"
        }
      ]
    },
    {
      "cell_type": "code",
      "metadata": {
        "colab": {
          "base_uri": "https://localhost:8080/"
        },
        "id": "7HH-a_zGB44L",
        "outputId": "74b3ad1e-1b0e-454e-b2c8-eba7f3dd5cee"
      },
      "source": [
        "# take out the $ sign\n",
        "\n",
        "import pyspark.sql.functions as f\n",
        "from pyspark.sql.functions import col\n",
        "\n",
        "values = final.withColumn('value', f.regexp_replace(f.col(\"value\"), \"[/$,]\", \"\"));\n",
        "values.show(50)"
      ],
      "execution_count": null,
      "outputs": [
        {
          "output_type": "stream",
          "text": [
            "+-----------+----------+----------------+--------------------+-----+--------------------+--------------------+----+-----+\n",
            "|show_number|  air_date|           round|            category|value|            question|              answer|year|month|\n",
            "+-----------+----------+----------------+--------------------+-----+--------------------+--------------------+----+-----+\n",
            "|       4680|2004-12-31|       Jeopardy!|             HISTORY|  200|For the last 8 ye...|          Copernicus|2004|   12|\n",
            "|       4680|2004-12-31|       Jeopardy!|ESPN's TOP 10 ALL...|  200|No. 2: 1912 Olymp...|          Jim Thorpe|2004|   12|\n",
            "|       4680|2004-12-31|       Jeopardy!|EVERYBODY TALKS A...|  200|The city of Yuma ...|             Arizona|2004|   12|\n",
            "|       4680|2004-12-31|       Jeopardy!|    THE COMPANY LINE|  200|In 1963, live on ...|          McDonald's|2004|   12|\n",
            "|       4680|2004-12-31|       Jeopardy!| EPITAPHS & TRIBUTES|  200|Signer of the Dec...|          John Adams|2004|   12|\n",
            "|       4680|2004-12-31|       Jeopardy!|      3-LETTER WORDS|  200|In the title of a...|             the ant|2004|   12|\n",
            "|       4680|2004-12-31|       Jeopardy!|             HISTORY|  400|Built in 312 B.C....|      the Appian Way|2004|   12|\n",
            "|       4680|2004-12-31|       Jeopardy!|ESPN's TOP 10 ALL...|  400|No. 8: 30 steals ...|      Michael Jordan|2004|   12|\n",
            "|       4680|2004-12-31|       Jeopardy!|EVERYBODY TALKS A...|  400|In the winter of ...|          Washington|2004|   12|\n",
            "|       4680|2004-12-31|       Jeopardy!|    THE COMPANY LINE|  400|This housewares s...|      Crate & Barrel|2004|   12|\n",
            "|       4680|2004-12-31|       Jeopardy!| EPITAPHS & TRIBUTES|  400|    \"And away we go\"|      Jackie Gleason|2004|   12|\n",
            "|       4680|2004-12-31|       Jeopardy!|      3-LETTER WORDS|  400|Cows regurgitate ...|             the cud|2004|   12|\n",
            "|       4680|2004-12-31|       Jeopardy!|             HISTORY|  600|In 1000 Rajaraja ...|Ceylon (or Sri La...|2004|   12|\n",
            "|       4680|2004-12-31|       Jeopardy!|ESPN's TOP 10 ALL...|  600|No. 1: Lettered i...|           Jim Brown|2004|   12|\n",
            "|       4680|2004-12-31|       Jeopardy!|EVERYBODY TALKS A...|  600|On June 28, 1994 ...|        the UV index|2004|   12|\n",
            "|       4680|2004-12-31|       Jeopardy!|    THE COMPANY LINE|  600|This company's Ac...|              Bulova|2004|   12|\n",
            "|       4680|2004-12-31|       Jeopardy!| EPITAPHS & TRIBUTES|  600|Outlaw: \"Murdered...|         Jesse James|2004|   12|\n",
            "|       4680|2004-12-31|       Jeopardy!|      3-LETTER WORDS|  600|A small demon, or...|                 imp|2004|   12|\n",
            "|       4680|2004-12-31|       Jeopardy!|             HISTORY|  800|Karl led the firs...|   the International|2004|   12|\n",
            "|       4680|2004-12-31|       Jeopardy!|ESPN's TOP 10 ALL...|  800|No. 10: FB/LB for...|        (Lou) Gehrig|2004|   12|\n",
            "|       4680|2004-12-31|       Jeopardy!|EVERYBODY TALKS A...|  800|Africa's lowest t...|             Morocco|2004|   12|\n",
            "|       4680|2004-12-31|       Jeopardy!|    THE COMPANY LINE|  800|Edward Teller & t...|       (Paul) Bonwit|2004|   12|\n",
            "|       4680|2004-12-31|       Jeopardy!| EPITAPHS & TRIBUTES|2,000|1939 Oscar winner...|Hattie McDaniel (...|2004|   12|\n",
            "|       4680|2004-12-31|       Jeopardy!|      3-LETTER WORDS|  800|In geologic time ...|                 era|2004|   12|\n",
            "|       4680|2004-12-31|       Jeopardy!|             HISTORY| 1000|This Asian politi...|  the Congress Party|2004|   12|\n",
            "|       4680|2004-12-31|       Jeopardy!|ESPN's TOP 10 ALL...| 1000|No. 5: Only cente...|  (Wilt) Chamberlain|2004|   12|\n",
            "|       4680|2004-12-31|       Jeopardy!|    THE COMPANY LINE| 1000|The Kirschner bro...|                  K2|2004|   12|\n",
            "|       4680|2004-12-31|       Jeopardy!| EPITAPHS & TRIBUTES| 1000|Revolutionary War...|         Ethan Allen|2004|   12|\n",
            "|       4680|2004-12-31|       Jeopardy!|      3-LETTER WORDS| 1000|A single layer of...|                 ply|2004|   12|\n",
            "|       4680|2004-12-31|Double Jeopardy!|DR. SEUSS AT THE ...|  400|<a href=\"http://w...|              Horton|2004|   12|\n",
            "|       4680|2004-12-31|Double Jeopardy!|PRESIDENTIAL STAT...|  400|          California|               Nixon|2004|   12|\n",
            "|       4680|2004-12-31|Double Jeopardy!|      AIRLINE TRAVEL|  400|It can be a place...|            a kennel|2004|   12|\n",
            "|       4680|2004-12-31|Double Jeopardy!|THAT OLD-TIME REL...|  400|He's considered t...|               Moses|2004|   12|\n",
            "|       4680|2004-12-31|Double Jeopardy!|      MUSICAL TRAINS|  400|Steven Tyler of t...|           Aerosmith|2004|   12|\n",
            "|       4680|2004-12-31|Double Jeopardy!|         \"X\"s & \"O\"s|  400|Around 100 A.D. T...|             oratory|2004|   12|\n",
            "|       4680|2004-12-31|Double Jeopardy!|PRESIDENTIAL STAT...|  800|1 of the 2 born i...|Coolidge (or Ches...|2004|   12|\n",
            "|       4680|2004-12-31|Double Jeopardy!|      AIRLINE TRAVEL|  800|When it began on ...|      business class|2004|   12|\n",
            "|       4680|2004-12-31|Double Jeopardy!|THAT OLD-TIME REL...|  800|Ali, who married ...|            Muhammed|2004|   12|\n",
            "|       4680|2004-12-31|Double Jeopardy!|      MUSICAL TRAINS|  800|During the 1954-1...| the \"Mystery Train\"|2004|   12|\n",
            "|       4680|2004-12-31|Double Jeopardy!|         \"X\"s & \"O\"s|  800|The shorter glass...|    an old-fashioned|2004|   12|\n",
            "|       4680|2004-12-31|Double Jeopardy!|DR. SEUSS AT THE ...| 1200|<a href=\"http://w...|              Yertle|2004|   12|\n",
            "|       4680|2004-12-31|Double Jeopardy!|      AIRLINE TRAVEL|2,000|In 2003 this airl...|          Air France|2004|   12|\n",
            "|       4680|2004-12-31|Double Jeopardy!|THAT OLD-TIME REL...| 1200|Philadelphia got ...|         the Quakers|2004|   12|\n",
            "|       4680|2004-12-31|Double Jeopardy!|      MUSICAL TRAINS| 1200|This \"Modern Girl...|     (Sheena) Easton|2004|   12|\n",
            "|       4680|2004-12-31|Double Jeopardy!|         \"X\"s & \"O\"s| 1200|This stiff silken...|             organza|2004|   12|\n",
            "|       4680|2004-12-31|Double Jeopardy!|DR. SEUSS AT THE ...| 1600|<a href=\"http://w...|     Mulberry Street|2004|   12|\n",
            "|       4680|2004-12-31|Double Jeopardy!|      AIRLINE TRAVEL| 1600|In 2004 United la...|                 Ted|2004|   12|\n",
            "|       4680|2004-12-31|Double Jeopardy!|THAT OLD-TIME REL...| 1600|With Mary I's acc...|         (John) Knox|2004|   12|\n",
            "|       4680|2004-12-31|Double Jeopardy!|      MUSICAL TRAINS| 1600|This band's \"Trai...|           The Clash|2004|   12|\n",
            "|       4680|2004-12-31|Double Jeopardy!|         \"X\"s & \"O\"s| 1600|Cross-country ski...|                  XC|2004|   12|\n",
            "+-----------+----------+----------------+--------------------+-----+--------------------+--------------------+----+-----+\n",
            "only showing top 50 rows\n",
            "\n"
          ],
          "name": "stdout"
        }
      ]
    },
    {
      "cell_type": "code",
      "metadata": {
        "id": "ZSAfQMkNg2hM",
        "colab": {
          "base_uri": "https://localhost:8080/"
        },
        "outputId": "8564ca32-7e3d-4f8e-ad17-fd3e0845a26d"
      },
      "source": [
        "# check print schema\n",
        "\n",
        "final.printSchema()\n"
      ],
      "execution_count": null,
      "outputs": [
        {
          "output_type": "stream",
          "text": [
            "root\n",
            " |-- show_number: integer (nullable = true)\n",
            " |-- air_date: date (nullable = true)\n",
            " |-- round: string (nullable = true)\n",
            " |-- category: string (nullable = true)\n",
            " |-- value: string (nullable = true)\n",
            " |-- question: string (nullable = true)\n",
            " |-- answer: string (nullable = true)\n",
            "\n"
          ],
          "name": "stdout"
        }
      ]
    },
    {
      "cell_type": "code",
      "metadata": {
        "id": "ZcFMcw2U4rcu",
        "colab": {
          "base_uri": "https://localhost:8080/"
        },
        "outputId": "a5fd441f-2807-4cfd-aec4-41f79bfb0f46"
      },
      "source": [
        "#convert everything to correct type\n",
        "# final.withColumn(\"value\", final[\"value\"].cast(IntegerType()))\n",
        "# final.show()\n",
        "\n",
        "values = values.selectExpr(\"cast(show_number as int) show_number\", \"cast(round as string) round\", \"cast(air_date as date) air_date\", \"cast(category as string) category\", \"cast(value as int) value\",\"cast(year as int) year\",\"cast(month as int) month\",\"cast(question as string) question\", \"cast(answer as string) answer\")\n",
        "values.printSchema()\n",
        "values.show()\n"
      ],
      "execution_count": null,
      "outputs": [
        {
          "output_type": "stream",
          "text": [
            "root\n",
            " |-- show_number: integer (nullable = true)\n",
            " |-- round: string (nullable = true)\n",
            " |-- air_date: date (nullable = true)\n",
            " |-- category: string (nullable = true)\n",
            " |-- value: integer (nullable = true)\n",
            " |-- year: integer (nullable = true)\n",
            " |-- month: integer (nullable = true)\n",
            " |-- question: string (nullable = true)\n",
            " |-- answer: string (nullable = true)\n",
            "\n",
            "+-----------+---------+----------+--------------------+-----+----+-----+--------------------+--------------------+\n",
            "|show_number|    round|  air_date|            category|value|year|month|            question|              answer|\n",
            "+-----------+---------+----------+--------------------+-----+----+-----+--------------------+--------------------+\n",
            "|       4680|Jeopardy!|2004-12-31|             HISTORY|  200|2004|   12|For the last 8 ye...|          Copernicus|\n",
            "|       4680|Jeopardy!|2004-12-31|ESPN's TOP 10 ALL...|  200|2004|   12|No. 2: 1912 Olymp...|          Jim Thorpe|\n",
            "|       4680|Jeopardy!|2004-12-31|EVERYBODY TALKS A...|  200|2004|   12|The city of Yuma ...|             Arizona|\n",
            "|       4680|Jeopardy!|2004-12-31|    THE COMPANY LINE|  200|2004|   12|In 1963, live on ...|          McDonald's|\n",
            "|       4680|Jeopardy!|2004-12-31| EPITAPHS & TRIBUTES|  200|2004|   12|Signer of the Dec...|          John Adams|\n",
            "|       4680|Jeopardy!|2004-12-31|      3-LETTER WORDS|  200|2004|   12|In the title of a...|             the ant|\n",
            "|       4680|Jeopardy!|2004-12-31|             HISTORY|  400|2004|   12|Built in 312 B.C....|      the Appian Way|\n",
            "|       4680|Jeopardy!|2004-12-31|ESPN's TOP 10 ALL...|  400|2004|   12|No. 8: 30 steals ...|      Michael Jordan|\n",
            "|       4680|Jeopardy!|2004-12-31|EVERYBODY TALKS A...|  400|2004|   12|In the winter of ...|          Washington|\n",
            "|       4680|Jeopardy!|2004-12-31|    THE COMPANY LINE|  400|2004|   12|This housewares s...|      Crate & Barrel|\n",
            "|       4680|Jeopardy!|2004-12-31| EPITAPHS & TRIBUTES|  400|2004|   12|    \"And away we go\"|      Jackie Gleason|\n",
            "|       4680|Jeopardy!|2004-12-31|      3-LETTER WORDS|  400|2004|   12|Cows regurgitate ...|             the cud|\n",
            "|       4680|Jeopardy!|2004-12-31|             HISTORY|  600|2004|   12|In 1000 Rajaraja ...|Ceylon (or Sri La...|\n",
            "|       4680|Jeopardy!|2004-12-31|ESPN's TOP 10 ALL...|  600|2004|   12|No. 1: Lettered i...|           Jim Brown|\n",
            "|       4680|Jeopardy!|2004-12-31|EVERYBODY TALKS A...|  600|2004|   12|On June 28, 1994 ...|        the UV index|\n",
            "|       4680|Jeopardy!|2004-12-31|    THE COMPANY LINE|  600|2004|   12|This company's Ac...|              Bulova|\n",
            "|       4680|Jeopardy!|2004-12-31| EPITAPHS & TRIBUTES|  600|2004|   12|Outlaw: \"Murdered...|         Jesse James|\n",
            "|       4680|Jeopardy!|2004-12-31|      3-LETTER WORDS|  600|2004|   12|A small demon, or...|                 imp|\n",
            "|       4680|Jeopardy!|2004-12-31|             HISTORY|  800|2004|   12|Karl led the firs...|   the International|\n",
            "|       4680|Jeopardy!|2004-12-31|ESPN's TOP 10 ALL...|  800|2004|   12|No. 10: FB/LB for...|        (Lou) Gehrig|\n",
            "+-----------+---------+----------+--------------------+-----+----+-----+--------------------+--------------------+\n",
            "only showing top 20 rows\n",
            "\n"
          ],
          "name": "stdout"
        }
      ]
    },
    {
      "cell_type": "code",
      "metadata": {
        "id": "gE8bR9XqwRQU"
      },
      "source": [
        "#join columns from final dataframe with converted values in values dataframe on value string\n",
        "# joined_df = (final.alias('final').join(values.alias('values'), on =final['value'] == values['value'], how = 'inner'))\n"
      ],
      "execution_count": null,
      "outputs": []
    },
    {
      "cell_type": "code",
      "metadata": {
        "id": "h7yqaU040E-N",
        "colab": {
          "base_uri": "https://localhost:8080/"
        },
        "outputId": "497714ae-12dd-4a4e-ff78-4fda33a45af4"
      },
      "source": [
        "#full dataframe \n",
        "values.show(50)"
      ],
      "execution_count": null,
      "outputs": [
        {
          "output_type": "stream",
          "text": [
            "+-----------+----------------+----------+--------------------+-----+----+-----+--------------------+--------------------+\n",
            "|show_number|           round|  air_date|            category|value|year|month|            question|              answer|\n",
            "+-----------+----------------+----------+--------------------+-----+----+-----+--------------------+--------------------+\n",
            "|       4680|       Jeopardy!|2004-12-31|             HISTORY|  200|2004|   12|For the last 8 ye...|          Copernicus|\n",
            "|       4680|       Jeopardy!|2004-12-31|ESPN's TOP 10 ALL...|  200|2004|   12|No. 2: 1912 Olymp...|          Jim Thorpe|\n",
            "|       4680|       Jeopardy!|2004-12-31|EVERYBODY TALKS A...|  200|2004|   12|The city of Yuma ...|             Arizona|\n",
            "|       4680|       Jeopardy!|2004-12-31|    THE COMPANY LINE|  200|2004|   12|In 1963, live on ...|          McDonald's|\n",
            "|       4680|       Jeopardy!|2004-12-31| EPITAPHS & TRIBUTES|  200|2004|   12|Signer of the Dec...|          John Adams|\n",
            "|       4680|       Jeopardy!|2004-12-31|      3-LETTER WORDS|  200|2004|   12|In the title of a...|             the ant|\n",
            "|       4680|       Jeopardy!|2004-12-31|             HISTORY|  400|2004|   12|Built in 312 B.C....|      the Appian Way|\n",
            "|       4680|       Jeopardy!|2004-12-31|ESPN's TOP 10 ALL...|  400|2004|   12|No. 8: 30 steals ...|      Michael Jordan|\n",
            "|       4680|       Jeopardy!|2004-12-31|EVERYBODY TALKS A...|  400|2004|   12|In the winter of ...|          Washington|\n",
            "|       4680|       Jeopardy!|2004-12-31|    THE COMPANY LINE|  400|2004|   12|This housewares s...|      Crate & Barrel|\n",
            "|       4680|       Jeopardy!|2004-12-31| EPITAPHS & TRIBUTES|  400|2004|   12|    \"And away we go\"|      Jackie Gleason|\n",
            "|       4680|       Jeopardy!|2004-12-31|      3-LETTER WORDS|  400|2004|   12|Cows regurgitate ...|             the cud|\n",
            "|       4680|       Jeopardy!|2004-12-31|             HISTORY|  600|2004|   12|In 1000 Rajaraja ...|Ceylon (or Sri La...|\n",
            "|       4680|       Jeopardy!|2004-12-31|ESPN's TOP 10 ALL...|  600|2004|   12|No. 1: Lettered i...|           Jim Brown|\n",
            "|       4680|       Jeopardy!|2004-12-31|EVERYBODY TALKS A...|  600|2004|   12|On June 28, 1994 ...|        the UV index|\n",
            "|       4680|       Jeopardy!|2004-12-31|    THE COMPANY LINE|  600|2004|   12|This company's Ac...|              Bulova|\n",
            "|       4680|       Jeopardy!|2004-12-31| EPITAPHS & TRIBUTES|  600|2004|   12|Outlaw: \"Murdered...|         Jesse James|\n",
            "|       4680|       Jeopardy!|2004-12-31|      3-LETTER WORDS|  600|2004|   12|A small demon, or...|                 imp|\n",
            "|       4680|       Jeopardy!|2004-12-31|             HISTORY|  800|2004|   12|Karl led the firs...|   the International|\n",
            "|       4680|       Jeopardy!|2004-12-31|ESPN's TOP 10 ALL...|  800|2004|   12|No. 10: FB/LB for...|        (Lou) Gehrig|\n",
            "|       4680|       Jeopardy!|2004-12-31|EVERYBODY TALKS A...|  800|2004|   12|Africa's lowest t...|             Morocco|\n",
            "|       4680|       Jeopardy!|2004-12-31|    THE COMPANY LINE|  800|2004|   12|Edward Teller & t...|       (Paul) Bonwit|\n",
            "|       4680|       Jeopardy!|2004-12-31| EPITAPHS & TRIBUTES| null|2004|   12|1939 Oscar winner...|Hattie McDaniel (...|\n",
            "|       4680|       Jeopardy!|2004-12-31|      3-LETTER WORDS|  800|2004|   12|In geologic time ...|                 era|\n",
            "|       4680|       Jeopardy!|2004-12-31|             HISTORY| 1000|2004|   12|This Asian politi...|  the Congress Party|\n",
            "|       4680|       Jeopardy!|2004-12-31|ESPN's TOP 10 ALL...| 1000|2004|   12|No. 5: Only cente...|  (Wilt) Chamberlain|\n",
            "|       4680|       Jeopardy!|2004-12-31|    THE COMPANY LINE| 1000|2004|   12|The Kirschner bro...|                  K2|\n",
            "|       4680|       Jeopardy!|2004-12-31| EPITAPHS & TRIBUTES| 1000|2004|   12|Revolutionary War...|         Ethan Allen|\n",
            "|       4680|       Jeopardy!|2004-12-31|      3-LETTER WORDS| 1000|2004|   12|A single layer of...|                 ply|\n",
            "|       4680|Double Jeopardy!|2004-12-31|DR. SEUSS AT THE ...|  400|2004|   12|<a href=\"http://w...|              Horton|\n",
            "|       4680|Double Jeopardy!|2004-12-31|PRESIDENTIAL STAT...|  400|2004|   12|          California|               Nixon|\n",
            "|       4680|Double Jeopardy!|2004-12-31|      AIRLINE TRAVEL|  400|2004|   12|It can be a place...|            a kennel|\n",
            "|       4680|Double Jeopardy!|2004-12-31|THAT OLD-TIME REL...|  400|2004|   12|He's considered t...|               Moses|\n",
            "|       4680|Double Jeopardy!|2004-12-31|      MUSICAL TRAINS|  400|2004|   12|Steven Tyler of t...|           Aerosmith|\n",
            "|       4680|Double Jeopardy!|2004-12-31|         \"X\"s & \"O\"s|  400|2004|   12|Around 100 A.D. T...|             oratory|\n",
            "|       4680|Double Jeopardy!|2004-12-31|PRESIDENTIAL STAT...|  800|2004|   12|1 of the 2 born i...|Coolidge (or Ches...|\n",
            "|       4680|Double Jeopardy!|2004-12-31|      AIRLINE TRAVEL|  800|2004|   12|When it began on ...|      business class|\n",
            "|       4680|Double Jeopardy!|2004-12-31|THAT OLD-TIME REL...|  800|2004|   12|Ali, who married ...|            Muhammed|\n",
            "|       4680|Double Jeopardy!|2004-12-31|      MUSICAL TRAINS|  800|2004|   12|During the 1954-1...| the \"Mystery Train\"|\n",
            "|       4680|Double Jeopardy!|2004-12-31|         \"X\"s & \"O\"s|  800|2004|   12|The shorter glass...|    an old-fashioned|\n",
            "|       4680|Double Jeopardy!|2004-12-31|DR. SEUSS AT THE ...| 1200|2004|   12|<a href=\"http://w...|              Yertle|\n",
            "|       4680|Double Jeopardy!|2004-12-31|      AIRLINE TRAVEL| null|2004|   12|In 2003 this airl...|          Air France|\n",
            "|       4680|Double Jeopardy!|2004-12-31|THAT OLD-TIME REL...| 1200|2004|   12|Philadelphia got ...|         the Quakers|\n",
            "|       4680|Double Jeopardy!|2004-12-31|      MUSICAL TRAINS| 1200|2004|   12|This \"Modern Girl...|     (Sheena) Easton|\n",
            "|       4680|Double Jeopardy!|2004-12-31|         \"X\"s & \"O\"s| 1200|2004|   12|This stiff silken...|             organza|\n",
            "|       4680|Double Jeopardy!|2004-12-31|DR. SEUSS AT THE ...| 1600|2004|   12|<a href=\"http://w...|     Mulberry Street|\n",
            "|       4680|Double Jeopardy!|2004-12-31|      AIRLINE TRAVEL| 1600|2004|   12|In 2004 United la...|                 Ted|\n",
            "|       4680|Double Jeopardy!|2004-12-31|THAT OLD-TIME REL...| 1600|2004|   12|With Mary I's acc...|         (John) Knox|\n",
            "|       4680|Double Jeopardy!|2004-12-31|      MUSICAL TRAINS| 1600|2004|   12|This band's \"Trai...|           The Clash|\n",
            "|       4680|Double Jeopardy!|2004-12-31|         \"X\"s & \"O\"s| 1600|2004|   12|Cross-country ski...|                  XC|\n",
            "+-----------+----------------+----------+--------------------+-----+----+-----+--------------------+--------------------+\n",
            "only showing top 50 rows\n",
            "\n"
          ],
          "name": "stdout"
        }
      ]
    },
    {
      "cell_type": "code",
      "metadata": {
        "id": "obd2zdO8nbjQ",
        "colab": {
          "base_uri": "https://localhost:8080/"
        },
        "outputId": "c00da700-0e97-425a-fdcb-372a67d2eee6"
      },
      "source": [
        "# check count\n",
        "\n",
        "values.count()"
      ],
      "execution_count": null,
      "outputs": [
        {
          "output_type": "execute_result",
          "data": {
            "text/plain": [
              "216930"
            ]
          },
          "metadata": {
            "tags": []
          },
          "execution_count": 78
        }
      ]
    },
    {
      "cell_type": "code",
      "metadata": {
        "id": "3YE1W2CTlnf0",
        "colab": {
          "base_uri": "https://localhost:8080/"
        },
        "outputId": "5428e4d5-86eb-45d1-da39-260c77316cd4"
      },
      "source": [
        "# final print schema\n",
        "values.printSchema()"
      ],
      "execution_count": null,
      "outputs": [
        {
          "output_type": "stream",
          "text": [
            "root\n",
            " |-- show_number: integer (nullable = true)\n",
            " |-- round: string (nullable = true)\n",
            " |-- air_date: date (nullable = true)\n",
            " |-- category: string (nullable = true)\n",
            " |-- value: integer (nullable = true)\n",
            " |-- question: string (nullable = true)\n",
            " |-- answer: string (nullable = true)\n",
            "\n"
          ],
          "name": "stdout"
        }
      ]
    },
    {
      "cell_type": "code",
      "metadata": {
        "id": "JwtRETC7kDU4",
        "colab": {
          "base_uri": "https://localhost:8080/"
        },
        "outputId": "123cc6d3-31e0-4a11-c91b-8e1335784a1b"
      },
      "source": [
        "# count show numbers\n",
        "count = values.groupBy(\"show_number\").count()\n",
        "count.show(30)"
      ],
      "execution_count": null,
      "outputs": [
        {
          "output_type": "stream",
          "text": [
            "+-----------+-----+\n",
            "|show_number|count|\n",
            "+-----------+-----+\n",
            "|       4935|   61|\n",
            "|       3749|   60|\n",
            "|       3175|   61|\n",
            "|        496|   57|\n",
            "|       4900|   59|\n",
            "|       2122|   61|\n",
            "|       5518|   61|\n",
            "|       3794|   61|\n",
            "|       4519|   61|\n",
            "|       4818|   60|\n",
            "|       3918|   58|\n",
            "|       2866|   61|\n",
            "|       5300|   61|\n",
            "|       5803|   61|\n",
            "|       5156|   61|\n",
            "|       1238|   57|\n",
            "|       3475|   56|\n",
            "|       4929|   56|\n",
            "|       3698|   60|\n",
            "|       3179|   61|\n",
            "|       4158|   61|\n",
            "|        737|   61|\n",
            "|       2580|   61|\n",
            "|       2811|   61|\n",
            "|       3226|   59|\n",
            "|       4190|   61|\n",
            "|        897|   58|\n",
            "|       5614|   61|\n",
            "|       2999|   55|\n",
            "|       4219|   61|\n",
            "+-----------+-----+\n",
            "only showing top 30 rows\n",
            "\n"
          ],
          "name": "stdout"
        }
      ]
    },
    {
      "cell_type": "code",
      "metadata": {
        "id": "J-qhB6MCQaKb",
        "colab": {
          "base_uri": "https://localhost:8080/"
        },
        "outputId": "01b85084-75c6-470b-9e8d-b93bcdfecf05"
      },
      "source": [
        "# count categories\n",
        "ccat = values.groupBy(\"category\").count()\n",
        "ccat.show(30)"
      ],
      "execution_count": null,
      "outputs": [
        {
          "output_type": "stream",
          "text": [
            "+--------------------+-----+\n",
            "|            category|count|\n",
            "+--------------------+-----+\n",
            "|      JUST THE FACTS|    5|\n",
            "|     COLLEGE MASCOTS|    8|\n",
            "|           LIBRARIES|  101|\n",
            "|           ACTRESSES|   77|\n",
            "|              PLACES|   15|\n",
            "|   CANADIAN FOOTBALL|    5|\n",
            "|     LAW ENFORCEMENT|    6|\n",
            "|  AYE!  IT'S IRELAND|    5|\n",
            "|      HOLLYWOOD DOGS|    1|\n",
            "|           PRINCETON|    5|\n",
            "|             DRIVING|   15|\n",
            "|        \"AD\"JECTIVES|    5|\n",
            "|20th CENTURY WORL...|   10|\n",
            "|     ON THE CALENDAR|    1|\n",
            "|      A FLY CATEGORY|   10|\n",
            "|       TV MINISERIES|    5|\n",
            "|             \"EVER\"S|    5|\n",
            "|18th CENTURY AMERICA|   25|\n",
            "|DANCE IN THE DICT...|    5|\n",
            "|CLOTHES MAKE THE ...|    5|\n",
            "|  ALEXANDER HAMILTON|    5|\n",
            "|  DISNEY FILM VOICES|   30|\n",
            "|AFTER THE PRESIDENCY|    2|\n",
            "|          TANK ARRAY|    5|\n",
            "|          TV BLONDES|   10|\n",
            "|      U.S. MOUNTAINS|   13|\n",
            "|             \"WATER\"|   10|\n",
            "|  THE ARABIAN NIGHTS|   14|\n",
            "|     GET THE MESSAGE|    5|\n",
            "|                CARS|   28|\n",
            "+--------------------+-----+\n",
            "only showing top 30 rows\n",
            "\n"
          ],
          "name": "stdout"
        }
      ]
    },
    {
      "cell_type": "code",
      "metadata": {
        "id": "ACVxLrTzQo0T",
        "colab": {
          "base_uri": "https://localhost:8080/"
        },
        "outputId": "8740c649-7eb0-4087-9c3b-f05d4b7b4a7b"
      },
      "source": [
        "# count round\n",
        "round = values.groupBy(\"round\").count()\n",
        "round.show()"
      ],
      "execution_count": null,
      "outputs": [
        {
          "output_type": "stream",
          "text": [
            "+----------------+------+\n",
            "|           round| count|\n",
            "+----------------+------+\n",
            "|       Jeopardy!|107384|\n",
            "|      Tiebreaker|     3|\n",
            "| Final Jeopardy!|  3631|\n",
            "|Double Jeopardy!|105912|\n",
            "+----------------+------+\n",
            "\n"
          ],
          "name": "stdout"
        }
      ]
    },
    {
      "cell_type": "code",
      "metadata": {
        "id": "6vN1Q9k1RI0e",
        "colab": {
          "base_uri": "https://localhost:8080/"
        },
        "outputId": "f76b68e6-c44a-4317-d38b-ad4a907bc9ba"
      },
      "source": [
        "# count values\n",
        "final_data = values.groupBy(\"value\").count()\n",
        "final_data.show(30)"
      ],
      "execution_count": null,
      "outputs": [
        {
          "output_type": "stream",
          "text": [
            "+-----+-----+\n",
            "|value|count|\n",
            "+-----+-----+\n",
            "|  796|    1|\n",
            "|  300| 8663|\n",
            "|  350|    2|\n",
            "|  601|    1|\n",
            "|   22|    1|\n",
            "|  367|    1|\n",
            "| null| 8393|\n",
            "|   20|    1|\n",
            "|  500| 9016|\n",
            "|  250|    5|\n",
            "|    5|    9|\n",
            "| 1600|10801|\n",
            "|  900|  114|\n",
            "|  800|31860|\n",
            "|  100| 9029|\n",
            "| 2547|    1|\n",
            "| 1000|19539|\n",
            "|  585|    1|\n",
            "| 1200|11331|\n",
            "|  400|42244|\n",
            "|  750|    4|\n",
            "|   50|    1|\n",
            "|  200|30455|\n",
            "|  600|20377|\n",
            "| 2000|11243|\n",
            "|  700|  203|\n",
            "|    0| 3634|\n",
            "+-----+-----+\n",
            "\n"
          ],
          "name": "stdout"
        }
      ]
    },
    {
      "cell_type": "code",
      "metadata": {
        "id": "-GW6J2u_s06s",
        "colab": {
          "base_uri": "https://localhost:8080/"
        },
        "outputId": "656a5b72-9f13-44e9-a5a0-1a37ccfb0e85"
      },
      "source": [
        "#drop na\n",
        "final_df = values.na.drop()\n",
        "final_df.show(50)"
      ],
      "execution_count": null,
      "outputs": [
        {
          "output_type": "stream",
          "text": [
            "+-----------+----------------+----------+--------------------+-----+----+-----+--------------------+--------------------+\n",
            "|show_number|           round|  air_date|            category|value|year|month|            question|              answer|\n",
            "+-----------+----------------+----------+--------------------+-----+----+-----+--------------------+--------------------+\n",
            "|       4680|       Jeopardy!|2004-12-31|             HISTORY|  200|2004|   12|For the last 8 ye...|          Copernicus|\n",
            "|       4680|       Jeopardy!|2004-12-31|ESPN's TOP 10 ALL...|  200|2004|   12|No. 2: 1912 Olymp...|          Jim Thorpe|\n",
            "|       4680|       Jeopardy!|2004-12-31|EVERYBODY TALKS A...|  200|2004|   12|The city of Yuma ...|             Arizona|\n",
            "|       4680|       Jeopardy!|2004-12-31|    THE COMPANY LINE|  200|2004|   12|In 1963, live on ...|          McDonald's|\n",
            "|       4680|       Jeopardy!|2004-12-31| EPITAPHS & TRIBUTES|  200|2004|   12|Signer of the Dec...|          John Adams|\n",
            "|       4680|       Jeopardy!|2004-12-31|      3-LETTER WORDS|  200|2004|   12|In the title of a...|             the ant|\n",
            "|       4680|       Jeopardy!|2004-12-31|             HISTORY|  400|2004|   12|Built in 312 B.C....|      the Appian Way|\n",
            "|       4680|       Jeopardy!|2004-12-31|ESPN's TOP 10 ALL...|  400|2004|   12|No. 8: 30 steals ...|      Michael Jordan|\n",
            "|       4680|       Jeopardy!|2004-12-31|EVERYBODY TALKS A...|  400|2004|   12|In the winter of ...|          Washington|\n",
            "|       4680|       Jeopardy!|2004-12-31|    THE COMPANY LINE|  400|2004|   12|This housewares s...|      Crate & Barrel|\n",
            "|       4680|       Jeopardy!|2004-12-31| EPITAPHS & TRIBUTES|  400|2004|   12|    \"And away we go\"|      Jackie Gleason|\n",
            "|       4680|       Jeopardy!|2004-12-31|      3-LETTER WORDS|  400|2004|   12|Cows regurgitate ...|             the cud|\n",
            "|       4680|       Jeopardy!|2004-12-31|             HISTORY|  600|2004|   12|In 1000 Rajaraja ...|Ceylon (or Sri La...|\n",
            "|       4680|       Jeopardy!|2004-12-31|ESPN's TOP 10 ALL...|  600|2004|   12|No. 1: Lettered i...|           Jim Brown|\n",
            "|       4680|       Jeopardy!|2004-12-31|EVERYBODY TALKS A...|  600|2004|   12|On June 28, 1994 ...|        the UV index|\n",
            "|       4680|       Jeopardy!|2004-12-31|    THE COMPANY LINE|  600|2004|   12|This company's Ac...|              Bulova|\n",
            "|       4680|       Jeopardy!|2004-12-31| EPITAPHS & TRIBUTES|  600|2004|   12|Outlaw: \"Murdered...|         Jesse James|\n",
            "|       4680|       Jeopardy!|2004-12-31|      3-LETTER WORDS|  600|2004|   12|A small demon, or...|                 imp|\n",
            "|       4680|       Jeopardy!|2004-12-31|             HISTORY|  800|2004|   12|Karl led the firs...|   the International|\n",
            "|       4680|       Jeopardy!|2004-12-31|ESPN's TOP 10 ALL...|  800|2004|   12|No. 10: FB/LB for...|        (Lou) Gehrig|\n",
            "|       4680|       Jeopardy!|2004-12-31|EVERYBODY TALKS A...|  800|2004|   12|Africa's lowest t...|             Morocco|\n",
            "|       4680|       Jeopardy!|2004-12-31|    THE COMPANY LINE|  800|2004|   12|Edward Teller & t...|       (Paul) Bonwit|\n",
            "|       4680|       Jeopardy!|2004-12-31|      3-LETTER WORDS|  800|2004|   12|In geologic time ...|                 era|\n",
            "|       4680|       Jeopardy!|2004-12-31|             HISTORY| 1000|2004|   12|This Asian politi...|  the Congress Party|\n",
            "|       4680|       Jeopardy!|2004-12-31|ESPN's TOP 10 ALL...| 1000|2004|   12|No. 5: Only cente...|  (Wilt) Chamberlain|\n",
            "|       4680|       Jeopardy!|2004-12-31|    THE COMPANY LINE| 1000|2004|   12|The Kirschner bro...|                  K2|\n",
            "|       4680|       Jeopardy!|2004-12-31| EPITAPHS & TRIBUTES| 1000|2004|   12|Revolutionary War...|         Ethan Allen|\n",
            "|       4680|       Jeopardy!|2004-12-31|      3-LETTER WORDS| 1000|2004|   12|A single layer of...|                 ply|\n",
            "|       4680|Double Jeopardy!|2004-12-31|DR. SEUSS AT THE ...|  400|2004|   12|<a href=\"http://w...|              Horton|\n",
            "|       4680|Double Jeopardy!|2004-12-31|PRESIDENTIAL STAT...|  400|2004|   12|          California|               Nixon|\n",
            "|       4680|Double Jeopardy!|2004-12-31|      AIRLINE TRAVEL|  400|2004|   12|It can be a place...|            a kennel|\n",
            "|       4680|Double Jeopardy!|2004-12-31|THAT OLD-TIME REL...|  400|2004|   12|He's considered t...|               Moses|\n",
            "|       4680|Double Jeopardy!|2004-12-31|      MUSICAL TRAINS|  400|2004|   12|Steven Tyler of t...|           Aerosmith|\n",
            "|       4680|Double Jeopardy!|2004-12-31|         \"X\"s & \"O\"s|  400|2004|   12|Around 100 A.D. T...|             oratory|\n",
            "|       4680|Double Jeopardy!|2004-12-31|PRESIDENTIAL STAT...|  800|2004|   12|1 of the 2 born i...|Coolidge (or Ches...|\n",
            "|       4680|Double Jeopardy!|2004-12-31|      AIRLINE TRAVEL|  800|2004|   12|When it began on ...|      business class|\n",
            "|       4680|Double Jeopardy!|2004-12-31|THAT OLD-TIME REL...|  800|2004|   12|Ali, who married ...|            Muhammed|\n",
            "|       4680|Double Jeopardy!|2004-12-31|      MUSICAL TRAINS|  800|2004|   12|During the 1954-1...| the \"Mystery Train\"|\n",
            "|       4680|Double Jeopardy!|2004-12-31|         \"X\"s & \"O\"s|  800|2004|   12|The shorter glass...|    an old-fashioned|\n",
            "|       4680|Double Jeopardy!|2004-12-31|DR. SEUSS AT THE ...| 1200|2004|   12|<a href=\"http://w...|              Yertle|\n",
            "|       4680|Double Jeopardy!|2004-12-31|THAT OLD-TIME REL...| 1200|2004|   12|Philadelphia got ...|         the Quakers|\n",
            "|       4680|Double Jeopardy!|2004-12-31|      MUSICAL TRAINS| 1200|2004|   12|This \"Modern Girl...|     (Sheena) Easton|\n",
            "|       4680|Double Jeopardy!|2004-12-31|         \"X\"s & \"O\"s| 1200|2004|   12|This stiff silken...|             organza|\n",
            "|       4680|Double Jeopardy!|2004-12-31|DR. SEUSS AT THE ...| 1600|2004|   12|<a href=\"http://w...|     Mulberry Street|\n",
            "|       4680|Double Jeopardy!|2004-12-31|      AIRLINE TRAVEL| 1600|2004|   12|In 2004 United la...|                 Ted|\n",
            "|       4680|Double Jeopardy!|2004-12-31|THAT OLD-TIME REL...| 1600|2004|   12|With Mary I's acc...|         (John) Knox|\n",
            "|       4680|Double Jeopardy!|2004-12-31|      MUSICAL TRAINS| 1600|2004|   12|This band's \"Trai...|           The Clash|\n",
            "|       4680|Double Jeopardy!|2004-12-31|         \"X\"s & \"O\"s| 1600|2004|   12|Cross-country ski...|                  XC|\n",
            "|       4680|Double Jeopardy!|2004-12-31|DR. SEUSS AT THE ...| 2000|2004|   12|<a href=\"http://w...| Bartholomew Cubbins|\n",
            "|       4680|Double Jeopardy!|2004-12-31|      AIRLINE TRAVEL| 2000|2004|   12|In the seat pocke...|                Mall|\n",
            "+-----------+----------------+----------+--------------------+-----+----+-----+--------------------+--------------------+\n",
            "only showing top 50 rows\n",
            "\n"
          ],
          "name": "stdout"
        }
      ]
    },
    {
      "cell_type": "code",
      "metadata": {
        "colab": {
          "base_uri": "https://localhost:8080/"
        },
        "id": "asP0vymAvTnW",
        "outputId": "b9e18d2a-1ed7-4d4d-9fd6-caf2a1937e29"
      },
      "source": [
        "#Check for null (again ugh)\n",
        "check_for_null = final_df.groupBy(\"value\").count()\n",
        "check_for_null.show(30)"
      ],
      "execution_count": null,
      "outputs": [
        {
          "output_type": "stream",
          "text": [
            "+-----+-----+\n",
            "|value|count|\n",
            "+-----+-----+\n",
            "|  796|    1|\n",
            "|  300| 8663|\n",
            "|  350|    2|\n",
            "|  601|    1|\n",
            "|   22|    1|\n",
            "|  367|    1|\n",
            "|   20|    1|\n",
            "|  500| 9016|\n",
            "|  250|    5|\n",
            "|    5|    9|\n",
            "| 1600|10801|\n",
            "|  900|  114|\n",
            "|  800|31860|\n",
            "|  100| 9029|\n",
            "| 2547|    1|\n",
            "| 1000|19539|\n",
            "|  585|    1|\n",
            "| 1200|11331|\n",
            "|  400|42244|\n",
            "|  750|    4|\n",
            "|   50|    1|\n",
            "|  200|30455|\n",
            "|  600|20377|\n",
            "| 2000|11243|\n",
            "|  700|  203|\n",
            "|    0| 3634|\n",
            "+-----+-----+\n",
            "\n"
          ],
          "name": "stdout"
        }
      ]
    },
    {
      "cell_type": "code",
      "metadata": {
        "id": "mQvfv06jix-r"
      },
      "source": [
        "# import pandas\n",
        "import pandas as pd\n",
        "pandas_final = values.toPandas()"
      ],
      "execution_count": null,
      "outputs": []
    },
    {
      "cell_type": "code",
      "metadata": {
        "id": "rzBLbeCHjAzs",
        "colab": {
          "base_uri": "https://localhost:8080/",
          "height": 669
        },
        "outputId": "ce73bb91-48a2-4966-bca9-b53fb42fc889"
      },
      "source": [
        "# check in pandas\n",
        "pandas_final.head(20)"
      ],
      "execution_count": null,
      "outputs": [
        {
          "output_type": "execute_result",
          "data": {
            "text/html": [
              "<div>\n",
              "<style scoped>\n",
              "    .dataframe tbody tr th:only-of-type {\n",
              "        vertical-align: middle;\n",
              "    }\n",
              "\n",
              "    .dataframe tbody tr th {\n",
              "        vertical-align: top;\n",
              "    }\n",
              "\n",
              "    .dataframe thead th {\n",
              "        text-align: right;\n",
              "    }\n",
              "</style>\n",
              "<table border=\"1\" class=\"dataframe\">\n",
              "  <thead>\n",
              "    <tr style=\"text-align: right;\">\n",
              "      <th></th>\n",
              "      <th>show_number</th>\n",
              "      <th>round</th>\n",
              "      <th>air_date</th>\n",
              "      <th>category</th>\n",
              "      <th>value</th>\n",
              "      <th>year</th>\n",
              "      <th>month</th>\n",
              "      <th>question</th>\n",
              "      <th>answer</th>\n",
              "    </tr>\n",
              "  </thead>\n",
              "  <tbody>\n",
              "    <tr>\n",
              "      <th>0</th>\n",
              "      <td>4680</td>\n",
              "      <td>Jeopardy!</td>\n",
              "      <td>2004-12-31</td>\n",
              "      <td>HISTORY</td>\n",
              "      <td>200.0</td>\n",
              "      <td>2004</td>\n",
              "      <td>12</td>\n",
              "      <td>For the last 8 years of his life, Galileo was ...</td>\n",
              "      <td>Copernicus</td>\n",
              "    </tr>\n",
              "    <tr>\n",
              "      <th>1</th>\n",
              "      <td>4680</td>\n",
              "      <td>Jeopardy!</td>\n",
              "      <td>2004-12-31</td>\n",
              "      <td>ESPN's TOP 10 ALL-TIME ATHLETES</td>\n",
              "      <td>200.0</td>\n",
              "      <td>2004</td>\n",
              "      <td>12</td>\n",
              "      <td>No. 2: 1912 Olympian; football star at Carlisl...</td>\n",
              "      <td>Jim Thorpe</td>\n",
              "    </tr>\n",
              "    <tr>\n",
              "      <th>2</th>\n",
              "      <td>4680</td>\n",
              "      <td>Jeopardy!</td>\n",
              "      <td>2004-12-31</td>\n",
              "      <td>EVERYBODY TALKS ABOUT IT...</td>\n",
              "      <td>200.0</td>\n",
              "      <td>2004</td>\n",
              "      <td>12</td>\n",
              "      <td>The city of Yuma in this state has a record av...</td>\n",
              "      <td>Arizona</td>\n",
              "    </tr>\n",
              "    <tr>\n",
              "      <th>3</th>\n",
              "      <td>4680</td>\n",
              "      <td>Jeopardy!</td>\n",
              "      <td>2004-12-31</td>\n",
              "      <td>THE COMPANY LINE</td>\n",
              "      <td>200.0</td>\n",
              "      <td>2004</td>\n",
              "      <td>12</td>\n",
              "      <td>In 1963, live on \"The Art Linkletter Show\", th...</td>\n",
              "      <td>McDonald's</td>\n",
              "    </tr>\n",
              "    <tr>\n",
              "      <th>4</th>\n",
              "      <td>4680</td>\n",
              "      <td>Jeopardy!</td>\n",
              "      <td>2004-12-31</td>\n",
              "      <td>EPITAPHS &amp; TRIBUTES</td>\n",
              "      <td>200.0</td>\n",
              "      <td>2004</td>\n",
              "      <td>12</td>\n",
              "      <td>Signer of the Dec. of Indep., framer of the Co...</td>\n",
              "      <td>John Adams</td>\n",
              "    </tr>\n",
              "    <tr>\n",
              "      <th>5</th>\n",
              "      <td>4680</td>\n",
              "      <td>Jeopardy!</td>\n",
              "      <td>2004-12-31</td>\n",
              "      <td>3-LETTER WORDS</td>\n",
              "      <td>200.0</td>\n",
              "      <td>2004</td>\n",
              "      <td>12</td>\n",
              "      <td>In the title of an Aesop fable, this insect sh...</td>\n",
              "      <td>the ant</td>\n",
              "    </tr>\n",
              "    <tr>\n",
              "      <th>6</th>\n",
              "      <td>4680</td>\n",
              "      <td>Jeopardy!</td>\n",
              "      <td>2004-12-31</td>\n",
              "      <td>HISTORY</td>\n",
              "      <td>400.0</td>\n",
              "      <td>2004</td>\n",
              "      <td>12</td>\n",
              "      <td>Built in 312 B.C. to link Rome &amp; the South of ...</td>\n",
              "      <td>the Appian Way</td>\n",
              "    </tr>\n",
              "    <tr>\n",
              "      <th>7</th>\n",
              "      <td>4680</td>\n",
              "      <td>Jeopardy!</td>\n",
              "      <td>2004-12-31</td>\n",
              "      <td>ESPN's TOP 10 ALL-TIME ATHLETES</td>\n",
              "      <td>400.0</td>\n",
              "      <td>2004</td>\n",
              "      <td>12</td>\n",
              "      <td>No. 8: 30 steals for the Birmingham Barons; 2,...</td>\n",
              "      <td>Michael Jordan</td>\n",
              "    </tr>\n",
              "    <tr>\n",
              "      <th>8</th>\n",
              "      <td>4680</td>\n",
              "      <td>Jeopardy!</td>\n",
              "      <td>2004-12-31</td>\n",
              "      <td>EVERYBODY TALKS ABOUT IT...</td>\n",
              "      <td>400.0</td>\n",
              "      <td>2004</td>\n",
              "      <td>12</td>\n",
              "      <td>In the winter of 1971-72, a record 1,122 inche...</td>\n",
              "      <td>Washington</td>\n",
              "    </tr>\n",
              "    <tr>\n",
              "      <th>9</th>\n",
              "      <td>4680</td>\n",
              "      <td>Jeopardy!</td>\n",
              "      <td>2004-12-31</td>\n",
              "      <td>THE COMPANY LINE</td>\n",
              "      <td>400.0</td>\n",
              "      <td>2004</td>\n",
              "      <td>12</td>\n",
              "      <td>This housewares store was named for the packag...</td>\n",
              "      <td>Crate &amp; Barrel</td>\n",
              "    </tr>\n",
              "    <tr>\n",
              "      <th>10</th>\n",
              "      <td>4680</td>\n",
              "      <td>Jeopardy!</td>\n",
              "      <td>2004-12-31</td>\n",
              "      <td>EPITAPHS &amp; TRIBUTES</td>\n",
              "      <td>400.0</td>\n",
              "      <td>2004</td>\n",
              "      <td>12</td>\n",
              "      <td>\"And away we go\"</td>\n",
              "      <td>Jackie Gleason</td>\n",
              "    </tr>\n",
              "    <tr>\n",
              "      <th>11</th>\n",
              "      <td>4680</td>\n",
              "      <td>Jeopardy!</td>\n",
              "      <td>2004-12-31</td>\n",
              "      <td>3-LETTER WORDS</td>\n",
              "      <td>400.0</td>\n",
              "      <td>2004</td>\n",
              "      <td>12</td>\n",
              "      <td>Cows regurgitate this from the first stomach t...</td>\n",
              "      <td>the cud</td>\n",
              "    </tr>\n",
              "    <tr>\n",
              "      <th>12</th>\n",
              "      <td>4680</td>\n",
              "      <td>Jeopardy!</td>\n",
              "      <td>2004-12-31</td>\n",
              "      <td>HISTORY</td>\n",
              "      <td>600.0</td>\n",
              "      <td>2004</td>\n",
              "      <td>12</td>\n",
              "      <td>In 1000 Rajaraja I of the Cholas battled to ta...</td>\n",
              "      <td>Ceylon (or Sri Lanka)</td>\n",
              "    </tr>\n",
              "    <tr>\n",
              "      <th>13</th>\n",
              "      <td>4680</td>\n",
              "      <td>Jeopardy!</td>\n",
              "      <td>2004-12-31</td>\n",
              "      <td>ESPN's TOP 10 ALL-TIME ATHLETES</td>\n",
              "      <td>600.0</td>\n",
              "      <td>2004</td>\n",
              "      <td>12</td>\n",
              "      <td>No. 1: Lettered in hoops, football &amp; lacrosse ...</td>\n",
              "      <td>Jim Brown</td>\n",
              "    </tr>\n",
              "    <tr>\n",
              "      <th>14</th>\n",
              "      <td>4680</td>\n",
              "      <td>Jeopardy!</td>\n",
              "      <td>2004-12-31</td>\n",
              "      <td>EVERYBODY TALKS ABOUT IT...</td>\n",
              "      <td>600.0</td>\n",
              "      <td>2004</td>\n",
              "      <td>12</td>\n",
              "      <td>On June 28, 1994 the nat'l weather service beg...</td>\n",
              "      <td>the UV index</td>\n",
              "    </tr>\n",
              "    <tr>\n",
              "      <th>15</th>\n",
              "      <td>4680</td>\n",
              "      <td>Jeopardy!</td>\n",
              "      <td>2004-12-31</td>\n",
              "      <td>THE COMPANY LINE</td>\n",
              "      <td>600.0</td>\n",
              "      <td>2004</td>\n",
              "      <td>12</td>\n",
              "      <td>This company's Accutron watch, introduced in 1...</td>\n",
              "      <td>Bulova</td>\n",
              "    </tr>\n",
              "    <tr>\n",
              "      <th>16</th>\n",
              "      <td>4680</td>\n",
              "      <td>Jeopardy!</td>\n",
              "      <td>2004-12-31</td>\n",
              "      <td>EPITAPHS &amp; TRIBUTES</td>\n",
              "      <td>600.0</td>\n",
              "      <td>2004</td>\n",
              "      <td>12</td>\n",
              "      <td>Outlaw: \"Murdered by a traitor and a coward wh...</td>\n",
              "      <td>Jesse James</td>\n",
              "    </tr>\n",
              "    <tr>\n",
              "      <th>17</th>\n",
              "      <td>4680</td>\n",
              "      <td>Jeopardy!</td>\n",
              "      <td>2004-12-31</td>\n",
              "      <td>3-LETTER WORDS</td>\n",
              "      <td>600.0</td>\n",
              "      <td>2004</td>\n",
              "      <td>12</td>\n",
              "      <td>A small demon, or a mischievous child (who mig...</td>\n",
              "      <td>imp</td>\n",
              "    </tr>\n",
              "    <tr>\n",
              "      <th>18</th>\n",
              "      <td>4680</td>\n",
              "      <td>Jeopardy!</td>\n",
              "      <td>2004-12-31</td>\n",
              "      <td>HISTORY</td>\n",
              "      <td>800.0</td>\n",
              "      <td>2004</td>\n",
              "      <td>12</td>\n",
              "      <td>Karl led the first of these Marxist organizati...</td>\n",
              "      <td>the International</td>\n",
              "    </tr>\n",
              "    <tr>\n",
              "      <th>19</th>\n",
              "      <td>4680</td>\n",
              "      <td>Jeopardy!</td>\n",
              "      <td>2004-12-31</td>\n",
              "      <td>ESPN's TOP 10 ALL-TIME ATHLETES</td>\n",
              "      <td>800.0</td>\n",
              "      <td>2004</td>\n",
              "      <td>12</td>\n",
              "      <td>No. 10: FB/LB for Columbia U. in the 1920s; MV...</td>\n",
              "      <td>(Lou) Gehrig</td>\n",
              "    </tr>\n",
              "  </tbody>\n",
              "</table>\n",
              "</div>"
            ],
            "text/plain": [
              "    show_number  ...                 answer\n",
              "0          4680  ...             Copernicus\n",
              "1          4680  ...             Jim Thorpe\n",
              "2          4680  ...                Arizona\n",
              "3          4680  ...             McDonald's\n",
              "4          4680  ...             John Adams\n",
              "5          4680  ...                the ant\n",
              "6          4680  ...         the Appian Way\n",
              "7          4680  ...         Michael Jordan\n",
              "8          4680  ...             Washington\n",
              "9          4680  ...         Crate & Barrel\n",
              "10         4680  ...         Jackie Gleason\n",
              "11         4680  ...                the cud\n",
              "12         4680  ...  Ceylon (or Sri Lanka)\n",
              "13         4680  ...              Jim Brown\n",
              "14         4680  ...           the UV index\n",
              "15         4680  ...                 Bulova\n",
              "16         4680  ...            Jesse James\n",
              "17         4680  ...                    imp\n",
              "18         4680  ...      the International\n",
              "19         4680  ...           (Lou) Gehrig\n",
              "\n",
              "[20 rows x 9 columns]"
            ]
          },
          "metadata": {
            "tags": []
          },
          "execution_count": 126
        }
      ]
    },
    {
      "cell_type": "code",
      "metadata": {
        "colab": {
          "base_uri": "https://localhost:8080/",
          "height": 419
        },
        "id": "YDBfC8gpRc9P",
        "outputId": "6755ce0a-18ff-4800-e492-756c4f839802"
      },
      "source": [
        "# take out null in pandas\n",
        "import numpy as np\n",
        "\n",
        "drop_null = pandas_final.dropna()\n",
        "drop_null"
      ],
      "execution_count": null,
      "outputs": [
        {
          "output_type": "execute_result",
          "data": {
            "text/html": [
              "<div>\n",
              "<style scoped>\n",
              "    .dataframe tbody tr th:only-of-type {\n",
              "        vertical-align: middle;\n",
              "    }\n",
              "\n",
              "    .dataframe tbody tr th {\n",
              "        vertical-align: top;\n",
              "    }\n",
              "\n",
              "    .dataframe thead th {\n",
              "        text-align: right;\n",
              "    }\n",
              "</style>\n",
              "<table border=\"1\" class=\"dataframe\">\n",
              "  <thead>\n",
              "    <tr style=\"text-align: right;\">\n",
              "      <th></th>\n",
              "      <th>show_number</th>\n",
              "      <th>round</th>\n",
              "      <th>air_date</th>\n",
              "      <th>category</th>\n",
              "      <th>value</th>\n",
              "      <th>year</th>\n",
              "      <th>month</th>\n",
              "      <th>question</th>\n",
              "      <th>answer</th>\n",
              "    </tr>\n",
              "  </thead>\n",
              "  <tbody>\n",
              "    <tr>\n",
              "      <th>0</th>\n",
              "      <td>4680</td>\n",
              "      <td>Jeopardy!</td>\n",
              "      <td>2004-12-31</td>\n",
              "      <td>HISTORY</td>\n",
              "      <td>200.0</td>\n",
              "      <td>2004</td>\n",
              "      <td>12</td>\n",
              "      <td>For the last 8 years of his life, Galileo was ...</td>\n",
              "      <td>Copernicus</td>\n",
              "    </tr>\n",
              "    <tr>\n",
              "      <th>1</th>\n",
              "      <td>4680</td>\n",
              "      <td>Jeopardy!</td>\n",
              "      <td>2004-12-31</td>\n",
              "      <td>ESPN's TOP 10 ALL-TIME ATHLETES</td>\n",
              "      <td>200.0</td>\n",
              "      <td>2004</td>\n",
              "      <td>12</td>\n",
              "      <td>No. 2: 1912 Olympian; football star at Carlisl...</td>\n",
              "      <td>Jim Thorpe</td>\n",
              "    </tr>\n",
              "    <tr>\n",
              "      <th>2</th>\n",
              "      <td>4680</td>\n",
              "      <td>Jeopardy!</td>\n",
              "      <td>2004-12-31</td>\n",
              "      <td>EVERYBODY TALKS ABOUT IT...</td>\n",
              "      <td>200.0</td>\n",
              "      <td>2004</td>\n",
              "      <td>12</td>\n",
              "      <td>The city of Yuma in this state has a record av...</td>\n",
              "      <td>Arizona</td>\n",
              "    </tr>\n",
              "    <tr>\n",
              "      <th>3</th>\n",
              "      <td>4680</td>\n",
              "      <td>Jeopardy!</td>\n",
              "      <td>2004-12-31</td>\n",
              "      <td>THE COMPANY LINE</td>\n",
              "      <td>200.0</td>\n",
              "      <td>2004</td>\n",
              "      <td>12</td>\n",
              "      <td>In 1963, live on \"The Art Linkletter Show\", th...</td>\n",
              "      <td>McDonald's</td>\n",
              "    </tr>\n",
              "    <tr>\n",
              "      <th>4</th>\n",
              "      <td>4680</td>\n",
              "      <td>Jeopardy!</td>\n",
              "      <td>2004-12-31</td>\n",
              "      <td>EPITAPHS &amp; TRIBUTES</td>\n",
              "      <td>200.0</td>\n",
              "      <td>2004</td>\n",
              "      <td>12</td>\n",
              "      <td>Signer of the Dec. of Indep., framer of the Co...</td>\n",
              "      <td>John Adams</td>\n",
              "    </tr>\n",
              "    <tr>\n",
              "      <th>...</th>\n",
              "      <td>...</td>\n",
              "      <td>...</td>\n",
              "      <td>...</td>\n",
              "      <td>...</td>\n",
              "      <td>...</td>\n",
              "      <td>...</td>\n",
              "      <td>...</td>\n",
              "      <td>...</td>\n",
              "      <td>...</td>\n",
              "    </tr>\n",
              "    <tr>\n",
              "      <th>216925</th>\n",
              "      <td>4999</td>\n",
              "      <td>Double Jeopardy!</td>\n",
              "      <td>2006-05-11</td>\n",
              "      <td>RIDDLE ME THIS</td>\n",
              "      <td>2000.0</td>\n",
              "      <td>2006</td>\n",
              "      <td>5</td>\n",
              "      <td>This Puccini opera turns on the solution to 3 ...</td>\n",
              "      <td>Turandot</td>\n",
              "    </tr>\n",
              "    <tr>\n",
              "      <th>216926</th>\n",
              "      <td>4999</td>\n",
              "      <td>Double Jeopardy!</td>\n",
              "      <td>2006-05-11</td>\n",
              "      <td>\"T\" BIRDS</td>\n",
              "      <td>2000.0</td>\n",
              "      <td>2006</td>\n",
              "      <td>5</td>\n",
              "      <td>In North America this term is properly applied...</td>\n",
              "      <td>a titmouse</td>\n",
              "    </tr>\n",
              "    <tr>\n",
              "      <th>216927</th>\n",
              "      <td>4999</td>\n",
              "      <td>Double Jeopardy!</td>\n",
              "      <td>2006-05-11</td>\n",
              "      <td>AUTHORS IN THEIR YOUTH</td>\n",
              "      <td>2000.0</td>\n",
              "      <td>2006</td>\n",
              "      <td>5</td>\n",
              "      <td>In Penny Lane, where this \"Hellraiser\" grew up...</td>\n",
              "      <td>Clive Barker</td>\n",
              "    </tr>\n",
              "    <tr>\n",
              "      <th>216928</th>\n",
              "      <td>4999</td>\n",
              "      <td>Double Jeopardy!</td>\n",
              "      <td>2006-05-11</td>\n",
              "      <td>QUOTATIONS</td>\n",
              "      <td>2000.0</td>\n",
              "      <td>2006</td>\n",
              "      <td>5</td>\n",
              "      <td>From Ft. Sill, Okla. he made the plea, Arizona...</td>\n",
              "      <td>Geronimo</td>\n",
              "    </tr>\n",
              "    <tr>\n",
              "      <th>216929</th>\n",
              "      <td>4999</td>\n",
              "      <td>Final Jeopardy!</td>\n",
              "      <td>2006-05-11</td>\n",
              "      <td>HISTORIC NAMES</td>\n",
              "      <td>0.0</td>\n",
              "      <td>2006</td>\n",
              "      <td>5</td>\n",
              "      <td>A silent movie title includes the last name of...</td>\n",
              "      <td>Grigori Alexandrovich Potemkin</td>\n",
              "    </tr>\n",
              "  </tbody>\n",
              "</table>\n",
              "<p>208537 rows × 9 columns</p>\n",
              "</div>"
            ],
            "text/plain": [
              "        show_number  ...                          answer\n",
              "0              4680  ...                      Copernicus\n",
              "1              4680  ...                      Jim Thorpe\n",
              "2              4680  ...                         Arizona\n",
              "3              4680  ...                      McDonald's\n",
              "4              4680  ...                      John Adams\n",
              "...             ...  ...                             ...\n",
              "216925         4999  ...                        Turandot\n",
              "216926         4999  ...                      a titmouse\n",
              "216927         4999  ...                    Clive Barker\n",
              "216928         4999  ...                        Geronimo\n",
              "216929         4999  ...  Grigori Alexandrovich Potemkin\n",
              "\n",
              "[208537 rows x 9 columns]"
            ]
          },
          "metadata": {
            "tags": []
          },
          "execution_count": 108
        }
      ]
    },
    {
      "cell_type": "code",
      "metadata": {
        "colab": {
          "base_uri": "https://localhost:8080/"
        },
        "id": "iVXEVzr3R1kb",
        "outputId": "98d31925-c39d-4fab-9396-2c4413edb275"
      },
      "source": [
        "# drop null again because wasn't working in pyspark\n",
        "drop_null.count()"
      ],
      "execution_count": null,
      "outputs": [
        {
          "output_type": "execute_result",
          "data": {
            "text/plain": [
              "show_number    208537\n",
              "round          208537\n",
              "air_date       208537\n",
              "category       208537\n",
              "value          208537\n",
              "question       208537\n",
              "answer         208537\n",
              "dtype: int64"
            ]
          },
          "metadata": {
            "tags": []
          },
          "execution_count": 24
        }
      ]
    },
    {
      "cell_type": "code",
      "metadata": {
        "colab": {
          "base_uri": "https://localhost:8080/"
        },
        "id": "mEEXhkr_8ZlD",
        "outputId": "4a2c83ca-f4fb-411c-aeb0-5b854a2190e0"
      },
      "source": [
        "pandas_final.info()\n"
      ],
      "execution_count": null,
      "outputs": [
        {
          "output_type": "stream",
          "text": [
            "<class 'pandas.core.frame.DataFrame'>\n",
            "RangeIndex: 216930 entries, 0 to 216929\n",
            "Data columns (total 9 columns):\n",
            " #   Column       Non-Null Count   Dtype  \n",
            "---  ------       --------------   -----  \n",
            " 0   show_number  216930 non-null  int32  \n",
            " 1   round        216930 non-null  object \n",
            " 2   air_date     216930 non-null  object \n",
            " 3   category     216930 non-null  object \n",
            " 4   value        208537 non-null  float64\n",
            " 5   year         216930 non-null  int32  \n",
            " 6   month        216930 non-null  int32  \n",
            " 7   question     216930 non-null  object \n",
            " 8   answer       216930 non-null  object \n",
            "dtypes: float64(1), int32(3), object(5)\n",
            "memory usage: 12.4+ MB\n"
          ],
          "name": "stdout"
        }
      ]
    },
    {
      "cell_type": "code",
      "metadata": {
        "id": "Nxxq3p1Zot03"
      },
      "source": [
        "# Configure settings for RDS Emma\n",
        "mode = \"append\"\n",
        "jdbc_url = \"jdbc:postgresql://mypostgresdb.czptynze0rvd.us-east-1.rds.amazonaws.com:5432/jeopardy\"\n",
        "config = {\"user\":\"root\", \n",
        "          \"password\": \"\", \n",
        "          \"driver\":\"org.postgresql.Driver\"}"
      ],
      "execution_count": null,
      "outputs": []
    },
    {
      "cell_type": "code",
      "metadata": {
        "id": "YnJaHc9TpHUH"
      },
      "source": [
        "# # Write DataFrame to jeop_data table in RDS\n",
        "# change final to last variable name\n",
        "\n",
        "final.write.jdbc(url=jdbc_url, table='jeop_data', mode=mode, properties=config)"
      ],
      "execution_count": null,
      "outputs": []
    },
    {
      "cell_type": "code",
      "metadata": {
        "id": "nIqrVhW_23vb"
      },
      "source": [
        ""
      ],
      "execution_count": null,
      "outputs": []
    }
  ]
}