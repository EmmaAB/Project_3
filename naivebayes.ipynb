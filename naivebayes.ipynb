{
  "nbformat": 4,
  "nbformat_minor": 0,
  "metadata": {
    "colab": {
      "name": "naivebayes.ipynb",
      "provenance": [],
      "collapsed_sections": []
    },
    "kernelspec": {
      "name": "python3",
      "display_name": "Python 3"
    }
  },
  "cells": [
    {
      "cell_type": "code",
      "metadata": {
        "colab": {
          "base_uri": "https://localhost:8080/"
        },
        "id": "_LgmMBm7YzzA",
        "outputId": "75e865c0-cb8d-49be-aa5f-95be576d4b20"
      },
      "source": [
        "import os\n",
        "# Find the latest version of spark 3.0  from http://www-us.apache.org/dist/spark/ and enter as the spark version\n",
        "# For example:\n",
        "spark_version = 'spark-3.0.1'\n",
        "# spark_version = 'spark-3.<enter version>'\n",
        "os.environ['SPARK_VERSION']=spark_version\n",
        "\n",
        "# Install Spark and Java\n",
        "!apt-get update\n",
        "!apt-get install openjdk-11-jdk-headless -qq > /dev/null\n",
        "!wget -q http://www-us.apache.org/dist/spark/$SPARK_VERSION/$SPARK_VERSION-bin-hadoop2.7.tgz\n",
        "!tar xf $SPARK_VERSION-bin-hadoop2.7.tgz\n",
        "!pip install -q findspark\n",
        "\n",
        "# Set Environment Variables\n",
        "os.environ[\"JAVA_HOME\"] = \"/usr/lib/jvm/java-11-openjdk-amd64\"\n",
        "os.environ[\"SPARK_HOME\"] = f\"/content/{spark_version}-bin-hadoop2.7\"\n",
        "\n",
        "# Start a SparkSession\n",
        "import findspark\n",
        "findspark.init()"
      ],
      "execution_count": 1,
      "outputs": [
        {
          "output_type": "stream",
          "text": [
            "\r0% [Working]\r            \rIgn:1 https://developer.download.nvidia.com/compute/cuda/repos/ubuntu1804/x86_64  InRelease\n",
            "\r0% [Connecting to archive.ubuntu.com (91.189.88.142)] [Waiting for headers] [Wa\r                                                                               \rGet:2 https://cloud.r-project.org/bin/linux/ubuntu bionic-cran40/ InRelease [3,626 B]\n",
            "\r0% [Connecting to archive.ubuntu.com (91.189.88.142)] [Waiting for headers] [2 \r0% [Connecting to archive.ubuntu.com (91.189.88.142)] [Waiting for headers] [Wa\r0% [2 InRelease gpgv 3,626 B] [Connecting to archive.ubuntu.com (91.189.88.142)\r                                                                               \rGet:3 http://ppa.launchpad.net/c2d4u.team/c2d4u4.0+/ubuntu bionic InRelease [15.9 kB]\n",
            "\r0% [2 InRelease gpgv 3,626 B] [Waiting for headers] [Waiting for headers] [3 In\r                                                                               \rGet:4 http://security.ubuntu.com/ubuntu bionic-security InRelease [88.7 kB]\n",
            "\r0% [2 InRelease gpgv 3,626 B] [Waiting for headers] [4 InRelease 14.2 kB/88.7 k\r                                                                               \rIgn:5 https://developer.download.nvidia.com/compute/machine-learning/repos/ubuntu1804/x86_64  InRelease\n",
            "\r0% [2 InRelease gpgv 3,626 B] [Waiting for headers] [4 InRelease 14.2 kB/88.7 k\r                                                                               \rGet:6 https://developer.download.nvidia.com/compute/cuda/repos/ubuntu1804/x86_64  Release [697 B]\n",
            "\r0% [2 InRelease gpgv 3,626 B] [Waiting for headers] [4 InRelease 14.2 kB/88.7 k\r                                                                               \rHit:7 https://developer.download.nvidia.com/compute/machine-learning/repos/ubuntu1804/x86_64  Release\n",
            "\r0% [2 InRelease gpgv 3,626 B] [Waiting for headers] [4 InRelease 14.2 kB/88.7 k\r                                                                               \rGet:8 https://developer.download.nvidia.com/compute/cuda/repos/ubuntu1804/x86_64  Release.gpg [836 B]\n",
            "Hit:9 http://archive.ubuntu.com/ubuntu bionic InRelease\n",
            "Get:10 http://archive.ubuntu.com/ubuntu bionic-updates InRelease [88.7 kB]\n",
            "Hit:11 http://ppa.launchpad.net/graphics-drivers/ppa/ubuntu bionic InRelease\n",
            "Get:13 http://archive.ubuntu.com/ubuntu bionic-backports InRelease [74.6 kB]\n",
            "Ign:14 https://developer.download.nvidia.com/compute/cuda/repos/ubuntu1804/x86_64  Packages\n",
            "Get:14 https://developer.download.nvidia.com/compute/cuda/repos/ubuntu1804/x86_64  Packages [442 kB]\n",
            "Get:15 http://ppa.launchpad.net/c2d4u.team/c2d4u4.0+/ubuntu bionic/main Sources [1,689 kB]\n",
            "Get:16 http://security.ubuntu.com/ubuntu bionic-security/universe amd64 Packages [1,365 kB]\n",
            "Get:17 http://archive.ubuntu.com/ubuntu bionic-updates/main amd64 Packages [2,208 kB]\n",
            "Get:18 http://security.ubuntu.com/ubuntu bionic-security/main amd64 Packages [1,781 kB]\n",
            "Get:19 http://ppa.launchpad.net/c2d4u.team/c2d4u4.0+/ubuntu bionic/main amd64 Packages [865 kB]\n",
            "Get:20 http://archive.ubuntu.com/ubuntu bionic-updates/universe amd64 Packages [2,130 kB]\n",
            "Get:21 http://archive.ubuntu.com/ubuntu bionic-updates/restricted amd64 Packages [252 kB]\n",
            "Get:22 http://archive.ubuntu.com/ubuntu bionic-updates/multiverse amd64 Packages [54.3 kB]\n",
            "Fetched 11.1 MB in 3s (3,808 kB/s)\n",
            "Reading package lists... Done\n"
          ],
          "name": "stdout"
        }
      ]
    },
    {
      "cell_type": "code",
      "metadata": {
        "colab": {
          "base_uri": "https://localhost:8080/"
        },
        "id": "NsSaPIq9Y2IS",
        "outputId": "ccf9e45d-1d2d-420a-e1fd-5df560ca4921"
      },
      "source": [
        "!wget https://jdbc.postgresql.org/download/postgresql-42.2.9.jar"
      ],
      "execution_count": 2,
      "outputs": [
        {
          "output_type": "stream",
          "text": [
            "--2020-11-22 03:12:15--  https://jdbc.postgresql.org/download/postgresql-42.2.9.jar\n",
            "Resolving jdbc.postgresql.org (jdbc.postgresql.org)... 72.32.157.228, 2001:4800:3e1:1::228\n",
            "Connecting to jdbc.postgresql.org (jdbc.postgresql.org)|72.32.157.228|:443... connected.\n",
            "HTTP request sent, awaiting response... 200 OK\n",
            "Length: 914037 (893K) [application/java-archive]\n",
            "Saving to: ‘postgresql-42.2.9.jar’\n",
            "\n",
            "postgresql-42.2.9.j 100%[===================>] 892.61K  5.05MB/s    in 0.2s    \n",
            "\n",
            "2020-11-22 03:12:15 (5.05 MB/s) - ‘postgresql-42.2.9.jar’ saved [914037/914037]\n",
            "\n"
          ],
          "name": "stdout"
        }
      ]
    },
    {
      "cell_type": "code",
      "metadata": {
        "id": "7KX43gJkY2Lv"
      },
      "source": [
        "# Start Spark session\n",
        "from pyspark.sql import SparkSession\n",
        "spark = SparkSession.builder.appName(\"CloudETL\").config(\"spark.driver.extraClassPath\",\"/content/postgresql-42.2.9.jar\").getOrCreate()"
      ],
      "execution_count": 3,
      "outputs": []
    },
    {
      "cell_type": "code",
      "metadata": {
        "colab": {
          "base_uri": "https://localhost:8080/"
        },
        "id": "W-zZsopoY2P0",
        "outputId": "e2fbe46b-592f-4a46-c7c3-47343947c5c4"
      },
      "source": [
        " # Read in data from S3 Buckets\n",
        "from pyspark import SparkFiles\n",
        "url = \"https://mkangbucket.s3.amazonaws.com/jeopardy_new(2).csv\"\n",
        "spark.sparkContext.addFile(url)\n",
        "df = spark.read.csv(SparkFiles.get(\"jeopardy_new(2).csv\"), sep=\",\", header=True)\n",
        "\n",
        "# Show DataFrame\n",
        "df.show()\n",
        "# df.select(\" Value\").distinct().show()\n",
        "\n",
        "\n"
      ],
      "execution_count": 6,
      "outputs": [
        {
          "output_type": "stream",
          "text": [
            "+-----------+----------------+----------+--------------------+-----+----+-----+--------------------+--------------------+\n",
            "|show_number|           round|  air_date|            category|value|year|month|            question|              answer|\n",
            "+-----------+----------------+----------+--------------------+-----+----+-----+--------------------+--------------------+\n",
            "|       5147|Double Jeopardy!| 1/16/2007|                1957| 1600|2007|    1|\"Jack Kerouac pub...| & Nevil Shute wr...|\n",
            "|       5147|Double Jeopardy!| 1/16/2007|    U.S. STATE NAMES| 1600|2007|    1|\"This state's nam...|               Maine|\n",
            "|       5147|Double Jeopardy!| 1/16/2007|     BODIES OF WATER| 2000|2007|    1|It sounds servile...|    Great Slave Lake|\n",
            "|       5147|Double Jeopardy!| 1/16/2007|  ENTERTAINING WOMEN| 2000|2007|    1|\"Artie Shaw was m...|         Ava Gardner|\n",
            "|       5147|Double Jeopardy!| 1/16/2007|        SPEED HAMLET| 1000|2007|    1|He's the Fresh Pr...|          Fortinbras|\n",
            "|       5147|Double Jeopardy!| 1/16/2007|THAT'S SOME OF YO...| 2000|2007|    1|In 1971 this comp...|               Intel|\n",
            "|       5147|Double Jeopardy!| 1/16/2007|                1957| 2000|2007|    1|\"On July 29, 1957...|            the IAEA|\n",
            "|       5147|Double Jeopardy!| 1/16/2007|    U.S. STATE NAMES| 2000|2007|    1|\"The names of thi...|             Montana|\n",
            "|       6234|       Jeopardy!|10/27/2011|          ADDRESS ME|  200|2011|   10|This family lives...|        the Simpsons|\n",
            "|       6234|       Jeopardy!|10/27/2011|  FILL IN THE ANIMAL|  200|2011|   10|A game from Rovio...|               Birds|\n",
            "|       6234|       Jeopardy!|10/27/2011|THE EMPIRE STRIKE...|  200|2011|   10|The British Denta...|                 gum|\n",
            "|       6234|       Jeopardy!|10/27/2011|\"THE \"\"BEST\"\" OF ...|  200|2011|   10|Traditionally he ...|         the bestman|\n",
            "|       6234|       Jeopardy!|10/27/2011|MOST POPULAR BABY...|  200|2011|   10|1971, boys:  An a...|             Michael|\n",
            "|       6234|       Jeopardy!|10/27/2011|         MYTHBUSTERS|  200|2011|   10|\"(<a href=\"\"http:...| we achieved lift...|\n",
            "|       6234|       Jeopardy!|10/27/2011|          ADDRESS ME|  400|2011|   10|This rather anima...|           SpongeBob|\n",
            "|       6234|       Jeopardy!|10/27/2011|  FILL IN THE ANIMAL|  400|2011|   10|A magazine for te...|               Tiger|\n",
            "|       6234|       Jeopardy!|10/27/2011|THE EMPIRE STRIKE...|  400|2011|   10|U.K. dentists rec...|            fluoride|\n",
            "|       6234|       Jeopardy!|10/27/2011|\"THE \"\"BEST\"\" OF ...|  400|2011|   10|\"Put this body pa...|      your best foot|\n",
            "|       6234|       Jeopardy!|10/27/2011|MOST POPULAR BABY...| 1600|2011|   10|1998, girls: One ...|               Emily|\n",
            "|       6234|       Jeopardy!|10/27/2011|         MYTHBUSTERS|  400|2011|   10|\"(<a href=\"\"http:...| Leonardo da Vinc...|\n",
            "+-----------+----------------+----------+--------------------+-----+----+-----+--------------------+--------------------+\n",
            "only showing top 20 rows\n",
            "\n"
          ],
          "name": "stdout"
        }
      ]
    },
    {
      "cell_type": "code",
      "metadata": {
        "id": "9XCX9Z-cY2TC"
      },
      "source": [
        "# import types\n",
        "from pyspark.sql.types import StructField, StringType, IntegerType, StructType"
      ],
      "execution_count": 7,
      "outputs": []
    },
    {
      "cell_type": "code",
      "metadata": {
        "colab": {
          "base_uri": "https://localhost:8080/"
        },
        "id": "uhmqsHonY2Wz",
        "outputId": "dc1b49b7-f033-43b6-c036-74614f07316d"
      },
      "source": [
        "# print schema\n",
        "df.printSchema()"
      ],
      "execution_count": 8,
      "outputs": [
        {
          "output_type": "stream",
          "text": [
            "root\n",
            " |-- show_number: string (nullable = true)\n",
            " |-- round: string (nullable = true)\n",
            " |-- air_date: string (nullable = true)\n",
            " |-- category: string (nullable = true)\n",
            " |-- value: string (nullable = true)\n",
            " |-- year: string (nullable = true)\n",
            " |-- month: string (nullable = true)\n",
            " |-- question: string (nullable = true)\n",
            " |-- answer: string (nullable = true)\n",
            "\n"
          ],
          "name": "stdout"
        }
      ]
    },
    {
      "cell_type": "code",
      "metadata": {
        "colab": {
          "base_uri": "https://localhost:8080/"
        },
        "id": "C1MFdglzZP9R",
        "outputId": "9285950d-73a0-437b-b10d-7445da804cf6"
      },
      "source": [
        " from pyspark.sql.functions import length\n",
        "# Create a length column to be used as a future feature \n",
        "data_df = df.withColumn('length', length(df['category']))\n",
        "data_df.show()"
      ],
      "execution_count": 9,
      "outputs": [
        {
          "output_type": "stream",
          "text": [
            "+-----------+----------------+----------+--------------------+-----+----+-----+--------------------+--------------------+------+\n",
            "|show_number|           round|  air_date|            category|value|year|month|            question|              answer|length|\n",
            "+-----------+----------------+----------+--------------------+-----+----+-----+--------------------+--------------------+------+\n",
            "|       5147|Double Jeopardy!| 1/16/2007|                1957| 1600|2007|    1|\"Jack Kerouac pub...| & Nevil Shute wr...|     4|\n",
            "|       5147|Double Jeopardy!| 1/16/2007|    U.S. STATE NAMES| 1600|2007|    1|\"This state's nam...|               Maine|    16|\n",
            "|       5147|Double Jeopardy!| 1/16/2007|     BODIES OF WATER| 2000|2007|    1|It sounds servile...|    Great Slave Lake|    15|\n",
            "|       5147|Double Jeopardy!| 1/16/2007|  ENTERTAINING WOMEN| 2000|2007|    1|\"Artie Shaw was m...|         Ava Gardner|    18|\n",
            "|       5147|Double Jeopardy!| 1/16/2007|        SPEED HAMLET| 1000|2007|    1|He's the Fresh Pr...|          Fortinbras|    12|\n",
            "|       5147|Double Jeopardy!| 1/16/2007|THAT'S SOME OF YO...| 2000|2007|    1|In 1971 this comp...|               Intel|    28|\n",
            "|       5147|Double Jeopardy!| 1/16/2007|                1957| 2000|2007|    1|\"On July 29, 1957...|            the IAEA|     4|\n",
            "|       5147|Double Jeopardy!| 1/16/2007|    U.S. STATE NAMES| 2000|2007|    1|\"The names of thi...|             Montana|    16|\n",
            "|       6234|       Jeopardy!|10/27/2011|          ADDRESS ME|  200|2011|   10|This family lives...|        the Simpsons|    10|\n",
            "|       6234|       Jeopardy!|10/27/2011|  FILL IN THE ANIMAL|  200|2011|   10|A game from Rovio...|               Birds|    18|\n",
            "|       6234|       Jeopardy!|10/27/2011|THE EMPIRE STRIKE...|  200|2011|   10|The British Denta...|                 gum|    25|\n",
            "|       6234|       Jeopardy!|10/27/2011|\"THE \"\"BEST\"\" OF ...|  200|2011|   10|Traditionally he ...|         the bestman|    28|\n",
            "|       6234|       Jeopardy!|10/27/2011|MOST POPULAR BABY...|  200|2011|   10|1971, boys:  An a...|             Michael|    31|\n",
            "|       6234|       Jeopardy!|10/27/2011|         MYTHBUSTERS|  200|2011|   10|\"(<a href=\"\"http:...| we achieved lift...|    11|\n",
            "|       6234|       Jeopardy!|10/27/2011|          ADDRESS ME|  400|2011|   10|This rather anima...|           SpongeBob|    10|\n",
            "|       6234|       Jeopardy!|10/27/2011|  FILL IN THE ANIMAL|  400|2011|   10|A magazine for te...|               Tiger|    18|\n",
            "|       6234|       Jeopardy!|10/27/2011|THE EMPIRE STRIKE...|  400|2011|   10|U.K. dentists rec...|            fluoride|    25|\n",
            "|       6234|       Jeopardy!|10/27/2011|\"THE \"\"BEST\"\" OF ...|  400|2011|   10|\"Put this body pa...|      your best foot|    28|\n",
            "|       6234|       Jeopardy!|10/27/2011|MOST POPULAR BABY...| 1600|2011|   10|1998, girls: One ...|               Emily|    31|\n",
            "|       6234|       Jeopardy!|10/27/2011|         MYTHBUSTERS|  400|2011|   10|\"(<a href=\"\"http:...| Leonardo da Vinc...|    11|\n",
            "+-----------+----------------+----------+--------------------+-----+----+-----+--------------------+--------------------+------+\n",
            "only showing top 20 rows\n",
            "\n"
          ],
          "name": "stdout"
        }
      ]
    },
    {
      "cell_type": "code",
      "metadata": {
        "colab": {
          "base_uri": "https://localhost:8080/"
        },
        "id": "4fFap0gfZQCQ",
        "outputId": "f754d08f-66cb-4340-b6ee-aa5dbcc461ce"
      },
      "source": [
        "hash_df = data_df[[\"round\", \"category\", \"length\"]]\n",
        "hash_df.show()"
      ],
      "execution_count": 11,
      "outputs": [
        {
          "output_type": "stream",
          "text": [
            "+----------------+--------------------+------+\n",
            "|           round|            category|length|\n",
            "+----------------+--------------------+------+\n",
            "|Double Jeopardy!|                1957|     4|\n",
            "|Double Jeopardy!|    U.S. STATE NAMES|    16|\n",
            "|Double Jeopardy!|     BODIES OF WATER|    15|\n",
            "|Double Jeopardy!|  ENTERTAINING WOMEN|    18|\n",
            "|Double Jeopardy!|        SPEED HAMLET|    12|\n",
            "|Double Jeopardy!|THAT'S SOME OF YO...|    28|\n",
            "|Double Jeopardy!|                1957|     4|\n",
            "|Double Jeopardy!|    U.S. STATE NAMES|    16|\n",
            "|       Jeopardy!|          ADDRESS ME|    10|\n",
            "|       Jeopardy!|  FILL IN THE ANIMAL|    18|\n",
            "|       Jeopardy!|THE EMPIRE STRIKE...|    25|\n",
            "|       Jeopardy!|\"THE \"\"BEST\"\" OF ...|    28|\n",
            "|       Jeopardy!|MOST POPULAR BABY...|    31|\n",
            "|       Jeopardy!|         MYTHBUSTERS|    11|\n",
            "|       Jeopardy!|          ADDRESS ME|    10|\n",
            "|       Jeopardy!|  FILL IN THE ANIMAL|    18|\n",
            "|       Jeopardy!|THE EMPIRE STRIKE...|    25|\n",
            "|       Jeopardy!|\"THE \"\"BEST\"\" OF ...|    28|\n",
            "|       Jeopardy!|MOST POPULAR BABY...|    31|\n",
            "|       Jeopardy!|         MYTHBUSTERS|    11|\n",
            "+----------------+--------------------+------+\n",
            "only showing top 20 rows\n",
            "\n"
          ],
          "name": "stdout"
        }
      ]
    },
    {
      "cell_type": "code",
      "metadata": {
        "id": "PUNyqEcbZQHX"
      },
      "source": [
        " from pyspark.ml.feature import Tokenizer, StopWordsRemover, HashingTF, IDF, StringIndexer\n",
        "# Create all the features to the data set\n",
        "jeop_to_num = StringIndexer(inputCol='round',outputCol='label')\n",
        "tokenizer = Tokenizer(inputCol=\"category\", outputCol=\"token_text\")\n",
        "stopremove = StopWordsRemover(inputCol='token_text',outputCol='stop_tokens')\n",
        "hashingTF = HashingTF(inputCol=\"stop_tokens\", outputCol='hash_token')\n",
        "idf = IDF(inputCol='hash_token', outputCol='idf_token')"
      ],
      "execution_count": 12,
      "outputs": []
    },
    {
      "cell_type": "code",
      "metadata": {
        "id": "TP81SntGZQLR"
      },
      "source": [
        " from pyspark.ml.feature import VectorAssembler\n",
        "from pyspark.ml.linalg import Vector\n",
        "\n",
        "# Create feature vectors\n",
        "clean_up = VectorAssembler(inputCols=['idf_token', 'length'], outputCol='features')"
      ],
      "execution_count": 13,
      "outputs": []
    },
    {
      "cell_type": "code",
      "metadata": {
        "id": "OnyhpVZWZsMp"
      },
      "source": [
        "\n",
        " # Create a and run a data processing Pipeline\n",
        "from pyspark.ml import Pipeline\n",
        "data_prep_pipeline = Pipeline(stages=[jeop_to_num, tokenizer, stopremove, hashingTF, idf, clean_up])"
      ],
      "execution_count": 15,
      "outputs": []
    },
    {
      "cell_type": "code",
      "metadata": {
        "id": "3CK1LES3ZsPt"
      },
      "source": [
        "\n",
        "# Fit and transform the pipeline\n",
        "cleaner = data_prep_pipeline.fit(data_df)\n",
        "cleaned = cleaner.transform(data_df)"
      ],
      "execution_count": 16,
      "outputs": []
    },
    {
      "cell_type": "code",
      "metadata": {
        "colab": {
          "base_uri": "https://localhost:8080/"
        },
        "id": "H2gTIbCU9iEk",
        "outputId": "e9ae42aa-5b74-4153-ef7c-705b8b2c6cf4"
      },
      "source": [
        "# Show label and resulting features\n",
        "cleaned.select(['label', 'features']).show()"
      ],
      "execution_count": 17,
      "outputs": [
        {
          "output_type": "stream",
          "text": [
            "+-----+--------------------+\n",
            "|label|            features|\n",
            "+-----+--------------------+\n",
            "|  1.0|(262145,[132740,2...|\n",
            "|  1.0|(262145,[90843,92...|\n",
            "|  1.0|(262145,[67117,12...|\n",
            "|  1.0|(262145,[84025,19...|\n",
            "|  1.0|(262145,[140197,2...|\n",
            "|  1.0|(262145,[116782,2...|\n",
            "|  1.0|(262145,[132740,2...|\n",
            "|  1.0|(262145,[90843,92...|\n",
            "|  0.0|(262145,[5078,262...|\n",
            "|  0.0|(262145,[73199,22...|\n",
            "|  0.0|(262145,[132804,2...|\n",
            "|  0.0|(262145,[102177,1...|\n",
            "|  0.0|(262145,[63956,98...|\n",
            "|  0.0|(262145,[58625,26...|\n",
            "|  0.0|(262145,[5078,262...|\n",
            "|  0.0|(262145,[73199,22...|\n",
            "|  0.0|(262145,[132804,2...|\n",
            "|  0.0|(262145,[102177,1...|\n",
            "|  0.0|(262145,[63956,98...|\n",
            "|  0.0|(262145,[58625,26...|\n",
            "+-----+--------------------+\n",
            "only showing top 20 rows\n",
            "\n"
          ],
          "name": "stdout"
        }
      ]
    },
    {
      "cell_type": "code",
      "metadata": {
        "id": "Nk3fN8ZVZsTH"
      },
      "source": [
        "from pyspark.ml.classification import NaiveBayes\n",
        "# Break data down into a training set and a testing set\n",
        "training, testing = cleaned.randomSplit([0.7, 0.3])\n",
        "\n",
        "# Create a Naive Bayes model and fit training data\n",
        "nb = NaiveBayes()\n",
        "predictor = nb.fit(training)"
      ],
      "execution_count": 18,
      "outputs": []
    },
    {
      "cell_type": "code",
      "metadata": {
        "colab": {
          "base_uri": "https://localhost:8080/"
        },
        "id": "gWH4kurEZsWY",
        "outputId": "e0d3d524-66bf-48fa-b741-03f7a4ffff20"
      },
      "source": [
        " # Tranform the model with the testing data\n",
        "test_results = predictor.transform(testing)\n",
        "test_results.show(5)\n"
      ],
      "execution_count": 19,
      "outputs": [
        {
          "output_type": "stream",
          "text": [
            "+-----------+----------------+---------+----------+-----+----+-----+--------------------+---------------+------+-----+------------+------------+--------------------+--------------------+--------------------+--------------------+--------------------+----------+\n",
            "|show_number|           round| air_date|  category|value|year|month|            question|         answer|length|label|  token_text| stop_tokens|          hash_token|           idf_token|            features|       rawPrediction|         probability|prediction|\n",
            "+-----------+----------------+---------+----------+-----+----+-----+--------------------+---------------+------+-----+------------+------------+--------------------+--------------------+--------------------+--------------------+--------------------+----------+\n",
            "|         10|Double Jeopardy!|9/21/1984|      1789|  200|1984|    9|Washington procla...|   Thanksgiving|     4|  1.0|      [1789]|      [1789]|(262144,[35326],[...|(262144,[35326],[...|(262145,[35326,26...|[-164.36414277098...|[1.20767506753592...|       1.0|\n",
            "|         10|Double Jeopardy!|9/21/1984|  HOMONYMS| 1000|1984|    9|  Didn't see the fog|  missed (mist)|     8|  1.0|  [homonyms]|  [homonyms]|(262144,[62789],[...|(262144,[62789],[...|(262145,[62789,26...|[-103.52467193647...|[1.71545031894887...|       1.0|\n",
            "|         10|Double Jeopardy!|9/21/1984|  HOMONYMS| 1000|1984|    9|Where ships dock ...|  piers (peers)|     8|  1.0|  [homonyms]|  [homonyms]|(262144,[62789],[...|(262144,[62789],[...|(262145,[62789,26...|[-103.52467193647...|[1.71545031894887...|       1.0|\n",
            "|         10|Double Jeopardy!|9/21/1984|  HOMONYMS|  400|1984|    9|  Near or a purchase|       by (buy)|     8|  1.0|  [homonyms]|  [homonyms]|(262144,[62789],[...|(262144,[62789],[...|(262145,[62789,26...|[-103.52467193647...|[1.71545031894887...|       1.0|\n",
            "|         10|Double Jeopardy!|9/21/1984|LITERATURE| 1000|1984|    9|Shaw's scorched s...|St. Joan of Arc|    10|  1.0|[literature]|[literature]|(262144,[7423],[1...|(262144,[7423],[5...|(262145,[7423,262...|[-45.909380601395...|[0.00841182039101...|       1.0|\n",
            "+-----------+----------------+---------+----------+-----+----+-----+--------------------+---------------+------+-----+------------+------------+--------------------+--------------------+--------------------+--------------------+--------------------+----------+\n",
            "only showing top 5 rows\n",
            "\n"
          ],
          "name": "stdout"
        }
      ]
    },
    {
      "cell_type": "code",
      "metadata": {
        "colab": {
          "base_uri": "https://localhost:8080/"
        },
        "id": "IvNe4BpFZ-Se",
        "outputId": "a6b91b1e-144e-433f-df5f-87f40bbecefb"
      },
      "source": [
        "# Use the Class Evaluator for a cleaner description\n",
        "from pyspark.ml.evaluation import MulticlassClassificationEvaluator\n",
        "\n",
        "acc_eval = MulticlassClassificationEvaluator()\n",
        "acc = acc_eval.evaluate(test_results)\n",
        "print(\"Accuracy of model at predicting reviews was: %f\" % acc)"
      ],
      "execution_count": 20,
      "outputs": [
        {
          "output_type": "stream",
          "text": [
            "Accuracy of model at predicting reviews was: 0.725462\n"
          ],
          "name": "stdout"
        }
      ]
    },
    {
      "cell_type": "code",
      "metadata": {
        "id": "KbgcvWb3Z-W3"
      },
      "source": [
        ""
      ],
      "execution_count": null,
      "outputs": []
    },
    {
      "cell_type": "code",
      "metadata": {
        "id": "QvgOgnQjZ-bZ"
      },
      "source": [
        ""
      ],
      "execution_count": null,
      "outputs": []
    },
    {
      "cell_type": "code",
      "metadata": {
        "id": "wzjOTjArZ-gR"
      },
      "source": [
        ""
      ],
      "execution_count": null,
      "outputs": []
    },
    {
      "cell_type": "code",
      "metadata": {
        "id": "cwuz-udCZ-mx"
      },
      "source": [
        ""
      ],
      "execution_count": null,
      "outputs": []
    },
    {
      "cell_type": "code",
      "metadata": {
        "id": "psV5ZuE9ZQOv"
      },
      "source": [
        ""
      ],
      "execution_count": null,
      "outputs": []
    },
    {
      "cell_type": "code",
      "metadata": {
        "id": "y-vy-OyqZQSO"
      },
      "source": [
        ""
      ],
      "execution_count": null,
      "outputs": []
    }
  ]
}